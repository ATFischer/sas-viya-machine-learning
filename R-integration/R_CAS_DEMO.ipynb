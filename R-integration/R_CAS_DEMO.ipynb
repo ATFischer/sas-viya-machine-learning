{
 "cells": [
  {
   "cell_type": "markdown",
   "metadata": {},
   "source": [
    "# R INTERFACE TO CAS DEMONSTRATION"
   ]
  },
  {
   "cell_type": "markdown",
   "metadata": {},
   "source": [
    "## Overview of the Predictive Modeling Case\n",
    "A financial services company offers a home equity line of credit to its clients. The\n",
    "company has extended several thousand lines of credit in the past, and many of these\n",
    "accepted applicants (approximately 20%) have defaulted on their loans. By using\n",
    "geographic, demographic, and financial variables, the company wants to build a model\n",
    "to predict whether an applicant will default."
   ]
  },
  {
   "cell_type": "markdown",
   "metadata": {},
   "source": [
    "## Data\n",
    "After analyzing the data, the company selected a subset of 12 predictor (or input)\n",
    "variables to model whether each applicant defaulted. The response (or target) variable\n",
    "(BAD) indicates whether an applicant defaulted on the home equity line of credit.\n",
    "These variables, along with their model role, measurement level, and description, are\n",
    "shown in the following table."
   ]
  },
  {
   "cell_type": "markdown",
   "metadata": {},
   "source": [
    "| Name      | Model Role | Measurement Level | Description                                                            |\n",
    "|:----------|:-----------|:------------------|:-----------------------------------------------------------------------|\n",
    "| BAD       | Target     | Binary            | 1 = applicant defaulted on loan or delinquent, 0 = applicant paid loan |\n",
    "| CLAGE     | Input      | Interval          | Age of oldest credit line in months                                    |\n",
    "| CLNO      | Input      | Interval          | Number of credit lines                                                 |\n",
    "| DEBTINC   | Input      | Interval          | Debt-to-income ratio                                                   |\n",
    "| DELINQ    | Input      | Interval          | Number of delinquent credit lines                                      |\n",
    "| DEROG     | Input      | Interval          | Number of derogatory reports                                           |\n",
    "| JOB       | Input      | Nominal           | Occupational categories                                                |\n",
    "| LOAN      | Input      | Interval          | Amount of loan request                                                 |\n",
    "| MORTDUE   | Input      | Interval          | Amount due on existing mortgage                                        |\n",
    "| NINQ      | Input      | Interval          | Number of recent credit inquiries                                      |\n",
    "| REASON    | Input      | Binary            | DebtCon = debt consolidation, HomeImp = home improvement               |\n",
    "| VALUE     | Input      | Interval          | Value of current property                                              |\n",
    "| YOJ       | Input      | Interval          | Years at present job                                                   |"
   ]
  },
  {
   "cell_type": "markdown",
   "metadata": {},
   "source": [
    "# DATA MINING WORKFLOW"
   ]
  },
  {
   "cell_type": "markdown",
   "metadata": {},
   "source": [
    "## Load Necessary Packages"
   ]
  },
  {
   "cell_type": "code",
   "execution_count": 258,
   "metadata": {
    "collapsed": false
   },
   "outputs": [],
   "source": [
    "library(swat)\n",
    "library(ggplot2)\n",
    "library(reshape2)\n",
    "library(xgboost)\n",
    "library(caret)"
   ]
  },
  {
   "cell_type": "markdown",
   "metadata": {},
   "source": [
    "## Connect to the CAS Server"
   ]
  },
  {
   "cell_type": "code",
   "execution_count": 259,
   "metadata": {
    "collapsed": false
   },
   "outputs": [
    {
     "name": "stderr",
     "output_type": "stream",
     "text": [
      "NOTE: Connecting to CAS and generating CAS action functions for loaded\n",
      "      action sets...\n",
      "NOTE: To generate the functions with signatures (for tab completion), set \n",
      "      options(cas.gen.function.sig=TRUE).\n"
     ]
    }
   ],
   "source": [
    "#CAS(hostname,port,username,password)\n",
    "conn <- CAS(\"server\", 8777, \"student\", \"Metadata0\", protocol=\"http\")"
   ]
  },
  {
   "cell_type": "markdown",
   "metadata": {},
   "source": [
    "## Read in the Dataset"
   ]
  },
  {
   "cell_type": "code",
   "execution_count": 260,
   "metadata": {
    "collapsed": false
   },
   "outputs": [
    {
     "name": "stderr",
     "output_type": "stream",
     "text": [
      "NOTE: Cloud Analytic Services made the uploaded file available as table HMEQ in caslib CASUSER(student).\n"
     ]
    }
   ],
   "source": [
    "castbl <- cas.read.csv(conn, \"D:/Workshop/Winsas/AX17HRV/hmeq.csv\")\n",
    "\n",
    "#Create variable for Dataset name\n",
    "indata <- 'hmeq'"
   ]
  },
  {
   "cell_type": "markdown",
   "metadata": {},
   "source": [
    "## Explore the Data"
   ]
  },
  {
   "cell_type": "code",
   "execution_count": 261,
   "metadata": {
    "collapsed": false
   },
   "outputs": [
    {
     "data": {
      "text/html": [
       "<ol class=list-inline>\n",
       "\t<li>5960</li>\n",
       "\t<li>13</li>\n",
       "</ol>\n"
      ],
      "text/latex": [
       "\\begin{enumerate*}\n",
       "\\item 5960\n",
       "\\item 13\n",
       "\\end{enumerate*}\n"
      ],
      "text/markdown": [
       "1. 5960\n",
       "2. 13\n",
       "\n",
       "\n"
      ],
      "text/plain": [
       "[1] 5960   13"
      ]
     },
     "metadata": {},
     "output_type": "display_data"
    },
    {
     "data": {
      "text/html": [
       "<ol class=list-inline>\n",
       "\t<li>'BAD'</li>\n",
       "\t<li>'LOAN'</li>\n",
       "\t<li>'MORTDUE'</li>\n",
       "\t<li>'VALUE'</li>\n",
       "\t<li>'REASON'</li>\n",
       "\t<li>'JOB'</li>\n",
       "\t<li>'YOJ'</li>\n",
       "\t<li>'DEROG'</li>\n",
       "\t<li>'DELINQ'</li>\n",
       "\t<li>'CLAGE'</li>\n",
       "\t<li>'NINQ'</li>\n",
       "\t<li>'CLNO'</li>\n",
       "\t<li>'DEBTINC'</li>\n",
       "</ol>\n"
      ],
      "text/latex": [
       "\\begin{enumerate*}\n",
       "\\item 'BAD'\n",
       "\\item 'LOAN'\n",
       "\\item 'MORTDUE'\n",
       "\\item 'VALUE'\n",
       "\\item 'REASON'\n",
       "\\item 'JOB'\n",
       "\\item 'YOJ'\n",
       "\\item 'DEROG'\n",
       "\\item 'DELINQ'\n",
       "\\item 'CLAGE'\n",
       "\\item 'NINQ'\n",
       "\\item 'CLNO'\n",
       "\\item 'DEBTINC'\n",
       "\\end{enumerate*}\n"
      ],
      "text/markdown": [
       "1. 'BAD'\n",
       "2. 'LOAN'\n",
       "3. 'MORTDUE'\n",
       "4. 'VALUE'\n",
       "5. 'REASON'\n",
       "6. 'JOB'\n",
       "7. 'YOJ'\n",
       "8. 'DEROG'\n",
       "9. 'DELINQ'\n",
       "10. 'CLAGE'\n",
       "11. 'NINQ'\n",
       "12. 'CLNO'\n",
       "13. 'DEBTINC'\n",
       "\n",
       "\n"
      ],
      "text/plain": [
       " [1] \"BAD\"     \"LOAN\"    \"MORTDUE\" \"VALUE\"   \"REASON\"  \"JOB\"     \"YOJ\"    \n",
       " [8] \"DEROG\"   \"DELINQ\"  \"CLAGE\"   \"NINQ\"    \"CLNO\"    \"DEBTINC\""
      ]
     },
     "metadata": {},
     "output_type": "display_data"
    }
   ],
   "source": [
    "#Use the dim and names functions to view the table size and column names\n",
    "dim(castbl)\n",
    "names(castbl)"
   ]
  },
  {
   "cell_type": "code",
   "execution_count": 262,
   "metadata": {
    "collapsed": false
   },
   "outputs": [
    {
     "data": {
      "text/html": [
       "<table>\n",
       "<thead><tr><th scope=col>BAD</th><th scope=col>LOAN</th><th scope=col>MORTDUE</th><th scope=col>VALUE</th><th scope=col>REASON</th><th scope=col>JOB</th><th scope=col>YOJ</th><th scope=col>DEROG</th><th scope=col>DELINQ</th><th scope=col>CLAGE</th><th scope=col>NINQ</th><th scope=col>CLNO</th><th scope=col>DEBTINC</th></tr></thead>\n",
       "<tbody>\n",
       "\t<tr><td>1        </td><td>1100     </td><td>25860    </td><td> 39025   </td><td>HomeImp  </td><td>Other    </td><td>10.5     </td><td>  0      </td><td>  0      </td><td> 94.36667</td><td>  1      </td><td>  9      </td><td>     NaN </td></tr>\n",
       "\t<tr><td>1        </td><td>1300     </td><td>70053    </td><td> 68400   </td><td>HomeImp  </td><td>Other    </td><td> 7.0     </td><td>  0      </td><td>  2      </td><td>121.83333</td><td>  0      </td><td> 14      </td><td>     NaN </td></tr>\n",
       "\t<tr><td>1        </td><td>1500     </td><td>13500    </td><td> 16700   </td><td>HomeImp  </td><td>Other    </td><td> 4.0     </td><td>  0      </td><td>  0      </td><td>149.46667</td><td>  1      </td><td> 10      </td><td>     NaN </td></tr>\n",
       "\t<tr><td>1        </td><td>1500     </td><td>  NaN    </td><td>   NaN   </td><td>         </td><td>         </td><td> NaN     </td><td>NaN      </td><td>NaN      </td><td>      NaN</td><td>NaN      </td><td>NaN      </td><td>     NaN </td></tr>\n",
       "\t<tr><td>0        </td><td>1700     </td><td>97800    </td><td>112000   </td><td>HomeImp  </td><td>Office   </td><td> 3.0     </td><td>  0      </td><td>  0      </td><td> 93.33333</td><td>  0      </td><td> 14      </td><td>     NaN </td></tr>\n",
       "\t<tr><td>1        </td><td>1700     </td><td>30548    </td><td> 40320   </td><td>HomeImp  </td><td>Other    </td><td> 9.0     </td><td>  0      </td><td>  0      </td><td>101.46600</td><td>  1      </td><td>  8      </td><td>37.11361 </td></tr>\n",
       "</tbody>\n",
       "</table>\n"
      ],
      "text/latex": [
       "\\begin{tabular}{r|lllllllllllll}\n",
       " BAD & LOAN & MORTDUE & VALUE & REASON & JOB & YOJ & DEROG & DELINQ & CLAGE & NINQ & CLNO & DEBTINC\\\\\n",
       "\\hline\n",
       "\t 1         & 1100      & 25860     &  39025    & HomeImp   & Other     & 10.5      &   0       &   0       &  94.36667 &   1       &   9       &      NaN \\\\\n",
       "\t 1         & 1300      & 70053     &  68400    & HomeImp   & Other     &  7.0      &   0       &   2       & 121.83333 &   0       &  14       &      NaN \\\\\n",
       "\t 1         & 1500      & 13500     &  16700    & HomeImp   & Other     &  4.0      &   0       &   0       & 149.46667 &   1       &  10       &      NaN \\\\\n",
       "\t 1         & 1500      &   NaN     &    NaN    &           &           &  NaN      & NaN       & NaN       &       NaN & NaN       & NaN       &      NaN \\\\\n",
       "\t 0         & 1700      & 97800     & 112000    & HomeImp   & Office    &  3.0      &   0       &   0       &  93.33333 &   0       &  14       &      NaN \\\\\n",
       "\t 1         & 1700      & 30548     &  40320    & HomeImp   & Other     &  9.0      &   0       &   0       & 101.46600 &   1       &   8       & 37.11361 \\\\\n",
       "\\end{tabular}\n"
      ],
      "text/markdown": [
       "\n",
       "BAD | LOAN | MORTDUE | VALUE | REASON | JOB | YOJ | DEROG | DELINQ | CLAGE | NINQ | CLNO | DEBTINC | \n",
       "|---|---|---|---|---|---|\n",
       "| 1         | 1100      | 25860     |  39025    | HomeImp   | Other     | 10.5      |   0       |   0       |  94.36667 |   1       |   9       |      NaN  | \n",
       "| 1         | 1300      | 70053     |  68400    | HomeImp   | Other     |  7.0      |   0       |   2       | 121.83333 |   0       |  14       |      NaN  | \n",
       "| 1         | 1500      | 13500     |  16700    | HomeImp   | Other     |  4.0      |   0       |   0       | 149.46667 |   1       |  10       |      NaN  | \n",
       "| 1         | 1500      |   NaN     |    NaN    |           |           |  NaN      | NaN       | NaN       |       NaN | NaN       | NaN       |      NaN  | \n",
       "| 0         | 1700      | 97800     | 112000    | HomeImp   | Office    |  3.0      |   0       |   0       |  93.33333 |   0       |  14       |      NaN  | \n",
       "| 1         | 1700      | 30548     |  40320    | HomeImp   | Other     |  9.0      |   0       |   0       | 101.46600 |   1       |   8       | 37.11361  | \n",
       "\n",
       "\n"
      ],
      "text/plain": [
       "  BAD LOAN MORTDUE VALUE  REASON  JOB    YOJ  DEROG DELINQ CLAGE     NINQ CLNO\n",
       "1 1   1100 25860    39025 HomeImp Other  10.5   0     0     94.36667   1    9 \n",
       "2 1   1300 70053    68400 HomeImp Other   7.0   0     2    121.83333   0   14 \n",
       "3 1   1500 13500    16700 HomeImp Other   4.0   0     0    149.46667   1   10 \n",
       "4 1   1500   NaN      NaN                 NaN NaN   NaN          NaN NaN  NaN \n",
       "5 0   1700 97800   112000 HomeImp Office  3.0   0     0     93.33333   0   14 \n",
       "6 1   1700 30548    40320 HomeImp Other   9.0   0     0    101.46600   1    8 \n",
       "  DEBTINC \n",
       "1      NaN\n",
       "2      NaN\n",
       "3      NaN\n",
       "4      NaN\n",
       "5      NaN\n",
       "6 37.11361"
      ]
     },
     "metadata": {},
     "output_type": "display_data"
    },
    {
     "data": {
      "text/html": [
       "<table>\n",
       "<thead><tr><th></th><th scope=col>BAD</th><th scope=col>LOAN</th><th scope=col>MORTDUE</th><th scope=col>VALUE</th><th scope=col>REASON</th><th scope=col>JOB</th><th scope=col>YOJ</th><th scope=col>DEROG</th><th scope=col>DELINQ</th><th scope=col>CLAGE</th><th scope=col>NINQ</th><th scope=col>CLNO</th><th scope=col>DEBTINC</th></tr></thead>\n",
       "<tbody>\n",
       "\t<tr><th scope=row>5955</th><td>0       </td><td>88500   </td><td>50240   </td><td>94687   </td><td>DebtCon </td><td>Other   </td><td>16      </td><td>0       </td><td>0       </td><td>214.4262</td><td>0       </td><td>16      </td><td>34.75116</td></tr>\n",
       "\t<tr><th scope=row>5956</th><td>0       </td><td>88800   </td><td>53307   </td><td>94058   </td><td>DebtCon </td><td>Other   </td><td>16      </td><td>0       </td><td>0       </td><td>218.3050</td><td>0       </td><td>15      </td><td>34.24246</td></tr>\n",
       "\t<tr><th scope=row>5957</th><td>0       </td><td>88900   </td><td>48919   </td><td>93371   </td><td>DebtCon </td><td>Other   </td><td>15      </td><td>0       </td><td>1       </td><td>205.6502</td><td>0       </td><td>15      </td><td>34.81826</td></tr>\n",
       "\t<tr><th scope=row>5958</th><td>0       </td><td>88900   </td><td>57264   </td><td>90185   </td><td>DebtCon </td><td>Other   </td><td>16      </td><td>0       </td><td>0       </td><td>221.8087</td><td>0       </td><td>16      </td><td>36.11235</td></tr>\n",
       "\t<tr><th scope=row>5959</th><td>0       </td><td>89000   </td><td>54576   </td><td>92937   </td><td>DebtCon </td><td>Other   </td><td>16      </td><td>0       </td><td>0       </td><td>208.6921</td><td>0       </td><td>15      </td><td>35.85997</td></tr>\n",
       "\t<tr><th scope=row>5960</th><td>0       </td><td>89200   </td><td>54045   </td><td>92924   </td><td>DebtCon </td><td>Other   </td><td>15      </td><td>0       </td><td>0       </td><td>212.2797</td><td>0       </td><td>15      </td><td>35.55659</td></tr>\n",
       "</tbody>\n",
       "</table>\n"
      ],
      "text/latex": [
       "\\begin{tabular}{r|lllllllllllll}\n",
       "  & BAD & LOAN & MORTDUE & VALUE & REASON & JOB & YOJ & DEROG & DELINQ & CLAGE & NINQ & CLNO & DEBTINC\\\\\n",
       "\\hline\n",
       "\t5955 & 0        & 88500    & 50240    & 94687    & DebtCon  & Other    & 16       & 0        & 0        & 214.4262 & 0        & 16       & 34.75116\\\\\n",
       "\t5956 & 0        & 88800    & 53307    & 94058    & DebtCon  & Other    & 16       & 0        & 0        & 218.3050 & 0        & 15       & 34.24246\\\\\n",
       "\t5957 & 0        & 88900    & 48919    & 93371    & DebtCon  & Other    & 15       & 0        & 1        & 205.6502 & 0        & 15       & 34.81826\\\\\n",
       "\t5958 & 0        & 88900    & 57264    & 90185    & DebtCon  & Other    & 16       & 0        & 0        & 221.8087 & 0        & 16       & 36.11235\\\\\n",
       "\t5959 & 0        & 89000    & 54576    & 92937    & DebtCon  & Other    & 16       & 0        & 0        & 208.6921 & 0        & 15       & 35.85997\\\\\n",
       "\t5960 & 0        & 89200    & 54045    & 92924    & DebtCon  & Other    & 15       & 0        & 0        & 212.2797 & 0        & 15       & 35.55659\\\\\n",
       "\\end{tabular}\n"
      ],
      "text/markdown": [
       "\n",
       "| <!--/--> | BAD | LOAN | MORTDUE | VALUE | REASON | JOB | YOJ | DEROG | DELINQ | CLAGE | NINQ | CLNO | DEBTINC | \n",
       "|---|---|---|---|---|---|\n",
       "| 5955 | 0        | 88500    | 50240    | 94687    | DebtCon  | Other    | 16       | 0        | 0        | 214.4262 | 0        | 16       | 34.75116 | \n",
       "| 5956 | 0        | 88800    | 53307    | 94058    | DebtCon  | Other    | 16       | 0        | 0        | 218.3050 | 0        | 15       | 34.24246 | \n",
       "| 5957 | 0        | 88900    | 48919    | 93371    | DebtCon  | Other    | 15       | 0        | 1        | 205.6502 | 0        | 15       | 34.81826 | \n",
       "| 5958 | 0        | 88900    | 57264    | 90185    | DebtCon  | Other    | 16       | 0        | 0        | 221.8087 | 0        | 16       | 36.11235 | \n",
       "| 5959 | 0        | 89000    | 54576    | 92937    | DebtCon  | Other    | 16       | 0        | 0        | 208.6921 | 0        | 15       | 35.85997 | \n",
       "| 5960 | 0        | 89200    | 54045    | 92924    | DebtCon  | Other    | 15       | 0        | 0        | 212.2797 | 0        | 15       | 35.55659 | \n",
       "\n",
       "\n"
      ],
      "text/plain": [
       "     BAD LOAN  MORTDUE VALUE REASON  JOB   YOJ DEROG DELINQ CLAGE    NINQ CLNO\n",
       "5955 0   88500 50240   94687 DebtCon Other 16  0     0      214.4262 0    16  \n",
       "5956 0   88800 53307   94058 DebtCon Other 16  0     0      218.3050 0    15  \n",
       "5957 0   88900 48919   93371 DebtCon Other 15  0     1      205.6502 0    15  \n",
       "5958 0   88900 57264   90185 DebtCon Other 16  0     0      221.8087 0    16  \n",
       "5959 0   89000 54576   92937 DebtCon Other 16  0     0      208.6921 0    15  \n",
       "5960 0   89200 54045   92924 DebtCon Other 15  0     0      212.2797 0    15  \n",
       "     DEBTINC \n",
       "5955 34.75116\n",
       "5956 34.24246\n",
       "5957 34.81826\n",
       "5958 36.11235\n",
       "5959 35.85997\n",
       "5960 35.55659"
      ]
     },
     "metadata": {},
     "output_type": "display_data"
    }
   ],
   "source": [
    "#Use head and tail function to view the first and last 6 observations\n",
    "head(castbl)\n",
    "tail(castbl)"
   ]
  },
  {
   "cell_type": "code",
   "execution_count": 263,
   "metadata": {
    "collapsed": false
   },
   "outputs": [
    {
     "name": "stderr",
     "output_type": "stream",
     "text": [
      "NOTE: Added action set 'fedSql'.\n",
      "WARNING: CASDAL driver. Creation of a BIGINT column has been requested, but is not supported by the CASDAL driver. A DOUBLE PRECISION column will be created instead.\n",
      "WARNING: CASDAL driver. Creation of a BIGINT column has been requested, but is not supported by the CASDAL driver. A DOUBLE PRECISION column will be created instead.\n",
      "WARNING: CASDAL driver. Creation of a BIGINT column has been requested, but is not supported by the CASDAL driver. A DOUBLE PRECISION column will be created instead.\n",
      "WARNING: CASDAL driver. Creation of a BIGINT column has been requested, but is not supported by the CASDAL driver. A DOUBLE PRECISION column will be created instead.\n"
     ]
    },
    {
     "data": {
      "text/plain": [
       "      BAD              LOAN          MORTDUE                \n",
       " Min.   :0.0000   Min.   : 1100   Min.   :2063              \n",
       " 1st Qu.:0.0000   1st Qu.:11100   1st Qu.:46268             \n",
       " Median :0.0000   Median :16300   Median :65019             \n",
       " Mean   :0.1995   Mean   :18608   Mean   :73760.8171995589  \n",
       " 3rd Qu.:0.0000   3rd Qu.:23300   3rd Qu.:91491             \n",
       " Max.   :1.0000   Max.   :89900   Max.   :399550            \n",
       "                                  NA's   :518               \n",
       "     VALUE                     REASON          JOB      \n",
       " Min.   :8000              DebtCon:3928   Mgr    : 767  \n",
       " 1st Qu.:66069             HomeImp:1780   Office : 948  \n",
       " Median :89235.5           NA's   : 252   Other  :2388  \n",
       " Mean   :101776.04874145                  ProfExe:1276  \n",
       " 3rd Qu.:119831.5                         Sales  : 109  \n",
       " Max.   :855909                           Self   : 193  \n",
       " NA's   :112                              NA's   : 279  \n",
       "      YOJ                      DEROG                    DELINQ                \n",
       " Min.   :0                 Min.   :0                Min.   :0                 \n",
       " 1st Qu.:3                 1st Qu.:0                1st Qu.:0                 \n",
       " Median :7                 Median :0                Median :0                 \n",
       " Mean   :8.9222681359045   Mean   :0.254569687738   Mean   :0.44944237918215  \n",
       " 3rd Qu.:13                3rd Qu.:0                3rd Qu.:0                 \n",
       " Max.   :41                Max.   :10               Max.   :15                \n",
       " NA's   :515               NA's   :708              NA's   :580               \n",
       "     CLAGE                       NINQ                 \n",
       " Min.   :0                  Min.   :0                 \n",
       " 1st Qu.:115.103196832924   1st Qu.:0                 \n",
       " Median :173.466666666667   Median :1                 \n",
       " Mean   :179.766275186577   Mean   :1.18605504587155  \n",
       " 3rd Qu.:231.574833599946   3rd Qu.:2                 \n",
       " Max.   :1168.23356094464   Max.   :17                \n",
       " NA's   :308                NA's   :510               \n",
       "      CLNO                     DEBTINC                \n",
       " Min.   :0                  Min.   :0.52449921542988  \n",
       " 1st Qu.:15                 1st Qu.:29.1400313718617  \n",
       " Median :20                 Median :34.818261818587   \n",
       " Mean   :21.2960962007668   Mean   :33.7799153487192  \n",
       " 3rd Qu.:26                 3rd Qu.:39.0031406283719  \n",
       " Max.   :71                 Max.   :203.312148691165  \n",
       " NA's   :222                NA's   :1267              "
      ]
     },
     "metadata": {},
     "output_type": "display_data"
    }
   ],
   "source": [
    "#Use summary function to get variable summary\n",
    "summary(castbl)"
   ]
  },
  {
   "cell_type": "markdown",
   "metadata": {},
   "source": [
    "## Visualize Numeric Variables Locally"
   ]
  },
  {
   "cell_type": "code",
   "execution_count": 264,
   "metadata": {
    "collapsed": false
   },
   "outputs": [
    {
     "name": "stderr",
     "output_type": "stream",
     "text": [
      "Warning message:\n",
      "\"Removed 4740 rows containing non-finite values (stat_bin).\""
     ]
    },
    {
     "data": {},
     "metadata": {},
     "output_type": "display_data"
    },
    {
     "data": {
      "image/png": "[encoded data removed]",
      "text/plain": [
       "plot without title"
      ]
     },
     "metadata": {},
     "output_type": "display_data"
    }
   ],
   "source": [
    "# Bring data locally\n",
    "df <- to.casDataFrame(castbl, obs = nrow(castbl))\n",
    "\n",
    "# Use reshape2's melt to help with data formatting\n",
    "d <- melt(df[sapply(df, is.numeric)], id.vars=NULL)\n",
    "\n",
    "#Plot data with ggplot\n",
    "ggplot(d, aes(x = value)) +  facet_wrap(~variable,scales = 'free_x') + geom_histogram(fill = 'blue', bins = 25) "
   ]
  },
  {
   "cell_type": "markdown",
   "metadata": {},
   "source": [
    "## Check Data for Missing Values"
   ]
  },
  {
   "cell_type": "code",
   "execution_count": 265,
   "metadata": {
    "collapsed": false
   },
   "outputs": [
    {
     "data": {
      "text/html": [
       "<table>\n",
       "<thead><tr><th scope=col>Column</th><th scope=col>NMiss</th></tr></thead>\n",
       "<tbody>\n",
       "\t<tr><td>BAD    </td><td>   0   </td></tr>\n",
       "\t<tr><td>LOAN   </td><td>   0   </td></tr>\n",
       "\t<tr><td>MORTDUE</td><td> 518   </td></tr>\n",
       "\t<tr><td>VALUE  </td><td> 112   </td></tr>\n",
       "\t<tr><td>REASON </td><td> 252   </td></tr>\n",
       "\t<tr><td>JOB    </td><td> 279   </td></tr>\n",
       "\t<tr><td>YOJ    </td><td> 515   </td></tr>\n",
       "\t<tr><td>DEROG  </td><td> 708   </td></tr>\n",
       "\t<tr><td>DELINQ </td><td> 580   </td></tr>\n",
       "\t<tr><td>CLAGE  </td><td> 308   </td></tr>\n",
       "\t<tr><td>NINQ   </td><td> 510   </td></tr>\n",
       "\t<tr><td>CLNO   </td><td> 222   </td></tr>\n",
       "\t<tr><td>DEBTINC</td><td>1267   </td></tr>\n",
       "</tbody>\n",
       "</table>\n"
      ],
      "text/latex": [
       "\\begin{tabular}{r|ll}\n",
       " Column & NMiss\\\\\n",
       "\\hline\n",
       "\t BAD     &    0   \\\\\n",
       "\t LOAN    &    0   \\\\\n",
       "\t MORTDUE &  518   \\\\\n",
       "\t VALUE   &  112   \\\\\n",
       "\t REASON  &  252   \\\\\n",
       "\t JOB     &  279   \\\\\n",
       "\t YOJ     &  515   \\\\\n",
       "\t DEROG   &  708   \\\\\n",
       "\t DELINQ  &  580   \\\\\n",
       "\t CLAGE   &  308   \\\\\n",
       "\t NINQ    &  510   \\\\\n",
       "\t CLNO    &  222   \\\\\n",
       "\t DEBTINC & 1267   \\\\\n",
       "\\end{tabular}\n"
      ],
      "text/markdown": [
       "\n",
       "Column | NMiss | \n",
       "|---|---|---|---|---|---|---|---|---|---|---|---|---|\n",
       "| BAD     |    0    | \n",
       "| LOAN    |    0    | \n",
       "| MORTDUE |  518    | \n",
       "| VALUE   |  112    | \n",
       "| REASON  |  252    | \n",
       "| JOB     |  279    | \n",
       "| YOJ     |  515    | \n",
       "| DEROG   |  708    | \n",
       "| DELINQ  |  580    | \n",
       "| CLAGE   |  308    | \n",
       "| NINQ    |  510    | \n",
       "| CLNO    |  222    | \n",
       "| DEBTINC | 1267    | \n",
       "\n",
       "\n"
      ],
      "text/plain": [
       "   Column  NMiss\n",
       "1  BAD        0 \n",
       "2  LOAN       0 \n",
       "3  MORTDUE  518 \n",
       "4  VALUE    112 \n",
       "5  REASON   252 \n",
       "6  JOB      279 \n",
       "7  YOJ      515 \n",
       "8  DEROG    708 \n",
       "9  DELINQ   580 \n",
       "10 CLAGE    308 \n",
       "11 NINQ     510 \n",
       "12 CLNO     222 \n",
       "13 DEBTINC 1267 "
      ]
     },
     "metadata": {},
     "output_type": "display_data"
    }
   ],
   "source": [
    "tbl <- cas.simple.distinct(castbl)$Distinct[,c('Column', 'NMiss')]\n",
    "tbl"
   ]
  },
  {
   "cell_type": "code",
   "execution_count": 266,
   "metadata": {
    "collapsed": false
   },
   "outputs": [
    {
     "data": {},
     "metadata": {},
     "output_type": "display_data"
    },
    {
     "data": {
      "image/png": "[encoded data removed]",
      "text/plain": [
       "plot without title"
      ]
     },
     "metadata": {},
     "output_type": "display_data"
    }
   ],
   "source": [
    "tbl$PctMiss <- tbl$NMiss/nrow(castbl)\n",
    "ggplot(tbl, aes(Column, PctMiss)) + geom_col(fill = 'blue') + \n",
    "   ggtitle('Pct Missing Values') + theme(plot.title = element_text(hjust = 0.5))"
   ]
  },
  {
   "cell_type": "markdown",
   "metadata": {},
   "source": [
    "## Impute Missing Values"
   ]
  },
  {
   "cell_type": "code",
   "execution_count": 267,
   "metadata": {
    "collapsed": false
   },
   "outputs": [
    {
     "data": {
      "text/html": [
       "<dl>\n",
       "\t<dt>$ImputeInfo</dt>\n",
       "\t\t<dd><table>\n",
       "<thead><tr><th scope=col>Variable</th><th scope=col>ImputeTech</th><th scope=col>ResultVar</th><th scope=col>N</th><th scope=col>NMiss</th><th scope=col>ImputedValueContinuous</th><th scope=col>ImputedValueNominal</th></tr></thead>\n",
       "<tbody>\n",
       "\t<tr><td>LOAN       </td><td>Median     </td><td>IMP_LOAN   </td><td>5960       </td><td>   0       </td><td>16300.00000</td><td>           </td></tr>\n",
       "\t<tr><td>MORTDUE    </td><td>Median     </td><td>IMP_MORTDUE</td><td>5442       </td><td> 518       </td><td>65019.00000</td><td>           </td></tr>\n",
       "\t<tr><td>VALUE      </td><td>Median     </td><td>IMP_VALUE  </td><td>5848       </td><td> 112       </td><td>89235.50000</td><td>           </td></tr>\n",
       "\t<tr><td>REASON     </td><td>Mode       </td><td>IMP_REASON </td><td>5708       </td><td> 252       </td><td>        NaN</td><td>DebtCon    </td></tr>\n",
       "\t<tr><td>JOB        </td><td>Mode       </td><td>IMP_JOB    </td><td>5681       </td><td> 279       </td><td>        NaN</td><td>Other      </td></tr>\n",
       "\t<tr><td>YOJ        </td><td>Median     </td><td>IMP_YOJ    </td><td>5445       </td><td> 515       </td><td>    7.00000</td><td>           </td></tr>\n",
       "\t<tr><td>DEROG      </td><td>Median     </td><td>IMP_DEROG  </td><td>5252       </td><td> 708       </td><td>    0.00000</td><td>           </td></tr>\n",
       "\t<tr><td>DELINQ     </td><td>Median     </td><td>IMP_DELINQ </td><td>5380       </td><td> 580       </td><td>    0.00000</td><td>           </td></tr>\n",
       "\t<tr><td>CLAGE      </td><td>Median     </td><td>IMP_CLAGE  </td><td>5652       </td><td> 308       </td><td>  173.46667</td><td>           </td></tr>\n",
       "\t<tr><td>NINQ       </td><td>Median     </td><td>IMP_NINQ   </td><td>5450       </td><td> 510       </td><td>    1.00000</td><td>           </td></tr>\n",
       "\t<tr><td>CLNO       </td><td>Median     </td><td>IMP_CLNO   </td><td>5738       </td><td> 222       </td><td>   20.00000</td><td>           </td></tr>\n",
       "\t<tr><td>DEBTINC    </td><td>Median     </td><td>IMP_DEBTINC</td><td>4693       </td><td>1267       </td><td>   34.81826</td><td>           </td></tr>\n",
       "</tbody>\n",
       "</table>\n",
       "</dd>\n",
       "\t<dt>$OutputCasTables</dt>\n",
       "\t\t<dd><table>\n",
       "<thead><tr><th scope=col>casLib</th><th scope=col>Name</th><th scope=col>Rows</th><th scope=col>Columns</th></tr></thead>\n",
       "<tbody>\n",
       "\t<tr><td>CASUSER(student)</td><td>hmeq            </td><td>5960            </td><td>25              </td></tr>\n",
       "</tbody>\n",
       "</table>\n",
       "</dd>\n",
       "</dl>\n"
      ],
      "text/latex": [
       "\\begin{description}\n",
       "\\item[\\$ImputeInfo] \\begin{tabular}{r|lllllll}\n",
       " Variable & ImputeTech & ResultVar & N & NMiss & ImputedValueContinuous & ImputedValueNominal\\\\\n",
       "\\hline\n",
       "\t LOAN          & Median        & IMP\\_LOAN    & 5960          &    0          & 16300.00000   &              \\\\\n",
       "\t MORTDUE       & Median        & IMP\\_MORTDUE & 5442          &  518          & 65019.00000   &              \\\\\n",
       "\t VALUE         & Median        & IMP\\_VALUE   & 5848          &  112          & 89235.50000   &              \\\\\n",
       "\t REASON        & Mode          & IMP\\_REASON  & 5708          &  252          &         NaN   & DebtCon      \\\\\n",
       "\t JOB           & Mode          & IMP\\_JOB     & 5681          &  279          &         NaN   & Other        \\\\\n",
       "\t YOJ           & Median        & IMP\\_YOJ     & 5445          &  515          &     7.00000   &              \\\\\n",
       "\t DEROG         & Median        & IMP\\_DEROG   & 5252          &  708          &     0.00000   &              \\\\\n",
       "\t DELINQ        & Median        & IMP\\_DELINQ  & 5380          &  580          &     0.00000   &              \\\\\n",
       "\t CLAGE         & Median        & IMP\\_CLAGE   & 5652          &  308          &   173.46667   &              \\\\\n",
       "\t NINQ          & Median        & IMP\\_NINQ    & 5450          &  510          &     1.00000   &              \\\\\n",
       "\t CLNO          & Median        & IMP\\_CLNO    & 5738          &  222          &    20.00000   &              \\\\\n",
       "\t DEBTINC       & Median        & IMP\\_DEBTINC & 4693          & 1267          &    34.81826   &              \\\\\n",
       "\\end{tabular}\n",
       "\n",
       "\\item[\\$OutputCasTables] \\begin{tabular}{r|llll}\n",
       " casLib & Name & Rows & Columns\\\\\n",
       "\\hline\n",
       "\t CASUSER(student) & hmeq             & 5960             & 25              \\\\\n",
       "\\end{tabular}\n",
       "\n",
       "\\end{description}\n"
      ],
      "text/markdown": [
       "$ImputeInfo\n",
       ":   \n",
       "Variable | ImputeTech | ResultVar | N | NMiss | ImputedValueContinuous | ImputedValueNominal | \n",
       "|---|---|---|---|---|---|---|---|---|---|---|---|\n",
       "| LOAN        | Median      | IMP_LOAN    | 5960        |    0        | 16300.00000 |             | \n",
       "| MORTDUE     | Median      | IMP_MORTDUE | 5442        |  518        | 65019.00000 |             | \n",
       "| VALUE       | Median      | IMP_VALUE   | 5848        |  112        | 89235.50000 |             | \n",
       "| REASON      | Mode        | IMP_REASON  | 5708        |  252        |         NaN | DebtCon     | \n",
       "| JOB         | Mode        | IMP_JOB     | 5681        |  279        |         NaN | Other       | \n",
       "| YOJ         | Median      | IMP_YOJ     | 5445        |  515        |     7.00000 |             | \n",
       "| DEROG       | Median      | IMP_DEROG   | 5252        |  708        |     0.00000 |             | \n",
       "| DELINQ      | Median      | IMP_DELINQ  | 5380        |  580        |     0.00000 |             | \n",
       "| CLAGE       | Median      | IMP_CLAGE   | 5652        |  308        |   173.46667 |             | \n",
       "| NINQ        | Median      | IMP_NINQ    | 5450        |  510        |     1.00000 |             | \n",
       "| CLNO        | Median      | IMP_CLNO    | 5738        |  222        |    20.00000 |             | \n",
       "| DEBTINC     | Median      | IMP_DEBTINC | 4693        | 1267        |    34.81826 |             | \n",
       "\n",
       "\n",
       "\n",
       "$OutputCasTables\n",
       ":   \n",
       "casLib | Name | Rows | Columns | \n",
       "|---|\n",
       "| CASUSER(student) | hmeq             | 5960             | 25               | \n",
       "\n",
       "\n",
       "\n",
       "\n",
       "\n"
      ],
      "text/plain": [
       "$ImputeInfo\n",
       "   Variable ImputeTech   ResultVar    N NMiss ImputedValueContinuous\n",
       "1      LOAN     Median    IMP_LOAN 5960     0            16300.00000\n",
       "2   MORTDUE     Median IMP_MORTDUE 5442   518            65019.00000\n",
       "3     VALUE     Median   IMP_VALUE 5848   112            89235.50000\n",
       "4    REASON       Mode  IMP_REASON 5708   252                    NaN\n",
       "5       JOB       Mode     IMP_JOB 5681   279                    NaN\n",
       "6       YOJ     Median     IMP_YOJ 5445   515                7.00000\n",
       "7     DEROG     Median   IMP_DEROG 5252   708                0.00000\n",
       "8    DELINQ     Median  IMP_DELINQ 5380   580                0.00000\n",
       "9     CLAGE     Median   IMP_CLAGE 5652   308              173.46667\n",
       "10     NINQ     Median    IMP_NINQ 5450   510                1.00000\n",
       "11     CLNO     Median    IMP_CLNO 5738   222               20.00000\n",
       "12  DEBTINC     Median IMP_DEBTINC 4693  1267               34.81826\n",
       "   ImputedValueNominal\n",
       "1                     \n",
       "2                     \n",
       "3                     \n",
       "4              DebtCon\n",
       "5                Other\n",
       "6                     \n",
       "7                     \n",
       "8                     \n",
       "9                     \n",
       "10                    \n",
       "11                    \n",
       "12                    \n",
       "\n",
       "$OutputCasTables\n",
       "            casLib Name Rows Columns\n",
       "1 CASUSER(student) hmeq 5960      25\n"
      ]
     },
     "metadata": {},
     "output_type": "display_data"
    }
   ],
   "source": [
    "# Impute missing values with the median for continuous variables and most frequent for nominal variables\n",
    "cas.dataPreprocess.impute(castbl,\n",
    "    methodContinuous = 'MEDIAN',\n",
    "    methodNominal    = 'MODE',\n",
    "    inputs           = colnames(castbl)[-1],\n",
    "    copyAllVars      = TRUE,\n",
    "    casOut           = list(name = indata, replace = TRUE)\n",
    ")"
   ]
  },
  {
   "cell_type": "markdown",
   "metadata": {},
   "source": [
    "## Split the Data into Training and Validation"
   ]
  },
  {
   "cell_type": "code",
   "execution_count": 268,
   "metadata": {
    "collapsed": false
   },
   "outputs": [
    {
     "name": "stderr",
     "output_type": "stream",
     "text": [
      "NOTE: Added action set 'sampling'.\n",
      "NOTE: Information for action set 'sampling':\n",
      "NOTE:    sampling\n",
      "NOTE:       srs -  Samples a proportion of data from the input table or partitions the data into no more than three portions\n",
      "NOTE:       stratified - Samples a proportion of data or partitions the data into no more than three portions within each stratum\n",
      "NOTE:       oversample - Samples a user-specified proportion of data from the event level and adjusts the ratio between rare events and non-rare events to a user-specified ratio\n"
     ]
    }
   ],
   "source": [
    "# Load the sampling actionset\n",
    "loadActionSet(conn, 'sampling')"
   ]
  },
  {
   "cell_type": "code",
   "execution_count": 269,
   "metadata": {
    "collapsed": false
   },
   "outputs": [
    {
     "name": "stderr",
     "output_type": "stream",
     "text": [
      "NOTE: Using SEED=51188 for sampling.\n"
     ]
    },
    {
     "data": {
      "text/html": [
       "<dl>\n",
       "\t<dt>$OutputCasTables</dt>\n",
       "\t\t<dd><table>\n",
       "<thead><tr><th scope=col>casLib</th><th scope=col>Name</th><th scope=col>Label</th><th scope=col>Rows</th><th scope=col>Columns</th></tr></thead>\n",
       "<tbody>\n",
       "\t<tr><td>CASUSER(student)</td><td>hmeq            </td><td>                </td><td>5960            </td><td>26              </td></tr>\n",
       "</tbody>\n",
       "</table>\n",
       "</dd>\n",
       "\t<dt>$SRSFreq</dt>\n",
       "\t\t<dd><table>\n",
       "<thead><tr><th scope=col>NObs</th><th scope=col>NSamp</th></tr></thead>\n",
       "<tbody>\n",
       "\t<tr><td>5960</td><td>4172</td></tr>\n",
       "</tbody>\n",
       "</table>\n",
       "</dd>\n",
       "\t<dt>$outputSize</dt>\n",
       "\t\t<dd><dl>\n",
       "\t<dt>$outputNObs</dt>\n",
       "\t\t<dd>5960</dd>\n",
       "\t<dt>$outputNVars</dt>\n",
       "\t\t<dd>26</dd>\n",
       "</dl>\n",
       "</dd>\n",
       "</dl>\n"
      ],
      "text/latex": [
       "\\begin{description}\n",
       "\\item[\\$OutputCasTables] \\begin{tabular}{r|lllll}\n",
       " casLib & Name & Label & Rows & Columns\\\\\n",
       "\\hline\n",
       "\t CASUSER(student) & hmeq             &                  & 5960             & 26              \\\\\n",
       "\\end{tabular}\n",
       "\n",
       "\\item[\\$SRSFreq] \\begin{tabular}{r|ll}\n",
       " NObs & NSamp\\\\\n",
       "\\hline\n",
       "\t 5960 & 4172\\\\\n",
       "\\end{tabular}\n",
       "\n",
       "\\item[\\$outputSize] \\begin{description}\n",
       "\\item[\\$outputNObs] 5960\n",
       "\\item[\\$outputNVars] 26\n",
       "\\end{description}\n",
       "\n",
       "\\end{description}\n"
      ],
      "text/markdown": [
       "$OutputCasTables\n",
       ":   \n",
       "casLib | Name | Label | Rows | Columns | \n",
       "|---|\n",
       "| CASUSER(student) | hmeq             |                  | 5960             | 26               | \n",
       "\n",
       "\n",
       "\n",
       "$SRSFreq\n",
       ":   \n",
       "NObs | NSamp | \n",
       "|---|\n",
       "| 5960 | 4172 | \n",
       "\n",
       "\n",
       "\n",
       "$outputSize\n",
       ":   $outputNObs\n",
       ":   5960\n",
       "$outputNVars\n",
       ":   26\n",
       "\n",
       "\n",
       "\n",
       "\n",
       "\n"
      ],
      "text/plain": [
       "$OutputCasTables\n",
       "            casLib Name Label Rows Columns\n",
       "1 CASUSER(student) hmeq       5960      26\n",
       "\n",
       "$SRSFreq\n",
       "  NObs NSamp\n",
       "1 5960  4172\n",
       "\n",
       "$outputSize\n",
       "$outputSize$outputNObs\n",
       "[1] 5960\n",
       "\n",
       "$outputSize$outputNVars\n",
       "[1] 26\n",
       "\n"
      ]
     },
     "metadata": {},
     "output_type": "display_data"
    }
   ],
   "source": [
    "# Partition the data\n",
    "cas.sampling.srs(conn,\n",
    "    table   = indata,\n",
    "    samppct = 70,\n",
    "    SEED=51188,\n",
    "    partind = TRUE,\n",
    "    output  = list(casOut = list(name = indata, replace = T), copyVars = 'ALL')\n",
    ")"
   ]
  },
  {
   "cell_type": "markdown",
   "metadata": {},
   "source": [
    "## Use SQL to view the partition"
   ]
  },
  {
   "cell_type": "code",
   "execution_count": 270,
   "metadata": {
    "collapsed": false
   },
   "outputs": [
    {
     "name": "stderr",
     "output_type": "stream",
     "text": [
      "NOTE: Added action set 'fedsql'.\n",
      "NOTE: Information for action set 'fedsql':\n",
      "NOTE:    fedSql\n",
      "NOTE:       execDirect - Submits a SAS FedSQL language statement for immediate execution\n"
     ]
    }
   ],
   "source": [
    "# Load the fedsql actionset\n",
    "loadActionSet(conn, 'fedsql')"
   ]
  },
  {
   "cell_type": "code",
   "execution_count": 271,
   "metadata": {
    "collapsed": false
   },
   "outputs": [
    {
     "data": {
      "text/html": [
       "<strong>$`Result Set`</strong> = <table>\n",
       "<thead><tr><th scope=col>NAME</th><th scope=col>_PartInd_</th><th scope=col>OBS</th></tr></thead>\n",
       "<tbody>\n",
       "\t<tr><td>Training  </td><td>1         </td><td>4172      </td></tr>\n",
       "\t<tr><td>Validation</td><td>0         </td><td>1788      </td></tr>\n",
       "</tbody>\n",
       "</table>\n"
      ],
      "text/latex": [
       "\\textbf{\\$`Result Set`} = \\begin{tabular}{r|lll}\n",
       " NAME & \\_PartInd\\_ & OBS\\\\\n",
       "\\hline\n",
       "\t Training   & 1          & 4172      \\\\\n",
       "\t Validation & 0          & 1788      \\\\\n",
       "\\end{tabular}\n"
      ],
      "text/markdown": [
       "**$`Result Set`** = \n",
       "NAME | _PartInd_ | OBS | \n",
       "|---|---|\n",
       "| Training   | 1          | 4172       | \n",
       "| Validation | 0          | 1788       | \n",
       "\n",
       "\n"
      ],
      "text/plain": [
       "$`Result Set`\n",
       "        NAME _PartInd_  OBS\n",
       "1   Training         1 4172\n",
       "2 Validation         0 1788\n"
      ]
     },
     "metadata": {},
     "output_type": "display_data"
    }
   ],
   "source": [
    "# Make sure the partition worked correctly using SQL\n",
    "cas.fedsql.execDirect(conn, query = paste0(\"\n",
    "    SELECT \n",
    "        CASE WHEN _PartInd_ = 1 THEN 'Training' ELSE 'Validation' END AS name,\n",
    "        _PartInd_, \n",
    "        COUNT(*) AS obs \n",
    "    FROM \", indata, \"\n",
    "    GROUP BY \n",
    "        CASE WHEN _PartInd_ = 1 THEN 'Training' ELSE 'Validation' END,\n",
    "        _PartInd_;\n",
    "\"))"
   ]
  },
  {
   "cell_type": "markdown",
   "metadata": {},
   "source": [
    "## Create Variable Shortcuts"
   ]
  },
  {
   "cell_type": "code",
   "execution_count": 272,
   "metadata": {
    "collapsed": false
   },
   "outputs": [
    {
     "data": {
      "text/html": [
       "<table>\n",
       "<thead><tr><th scope=col>Column</th><th scope=col>Label</th><th scope=col>ID</th><th scope=col>Type</th><th scope=col>RawLength</th><th scope=col>FormattedLength</th><th scope=col>NFL</th><th scope=col>NFD</th></tr></thead>\n",
       "<tbody>\n",
       "\t<tr><td>BAD        </td><td>           </td><td>1          </td><td>double     </td><td>8          </td><td>12         </td><td>0          </td><td>0          </td></tr>\n",
       "\t<tr><td>LOAN       </td><td>           </td><td>2          </td><td>double     </td><td>8          </td><td>12         </td><td>0          </td><td>0          </td></tr>\n",
       "\t<tr><td>MORTDUE    </td><td>           </td><td>3          </td><td>double     </td><td>8          </td><td>12         </td><td>0          </td><td>0          </td></tr>\n",
       "\t<tr><td>VALUE      </td><td>           </td><td>4          </td><td>double     </td><td>8          </td><td>12         </td><td>0          </td><td>0          </td></tr>\n",
       "\t<tr><td>REASON     </td><td>           </td><td>5          </td><td>varchar    </td><td>7          </td><td> 7         </td><td>0          </td><td>0          </td></tr>\n",
       "\t<tr><td>JOB        </td><td>           </td><td>6          </td><td>varchar    </td><td>7          </td><td> 7         </td><td>0          </td><td>0          </td></tr>\n",
       "\t<tr><td>YOJ        </td><td>           </td><td>7          </td><td>double     </td><td>8          </td><td>12         </td><td>0          </td><td>0          </td></tr>\n",
       "\t<tr><td>DEROG      </td><td>           </td><td>8          </td><td>double     </td><td>8          </td><td>12         </td><td>0          </td><td>0          </td></tr>\n",
       "\t<tr><td>DELINQ     </td><td>           </td><td>9          </td><td>double     </td><td>8          </td><td>12         </td><td>0          </td><td>0          </td></tr>\n",
       "\t<tr><td>CLAGE      </td><td>           </td><td>10         </td><td>double     </td><td>8          </td><td>12         </td><td>0          </td><td>0          </td></tr>\n",
       "\t<tr><td>NINQ       </td><td>           </td><td>11         </td><td>double     </td><td>8          </td><td>12         </td><td>0          </td><td>0          </td></tr>\n",
       "\t<tr><td>CLNO       </td><td>           </td><td>12         </td><td>double     </td><td>8          </td><td>12         </td><td>0          </td><td>0          </td></tr>\n",
       "\t<tr><td>DEBTINC    </td><td>           </td><td>13         </td><td>double     </td><td>8          </td><td>12         </td><td>0          </td><td>0          </td></tr>\n",
       "\t<tr><td>IMP_CLAGE  </td><td>           </td><td>14         </td><td>double     </td><td>8          </td><td>12         </td><td>0          </td><td>0          </td></tr>\n",
       "\t<tr><td>IMP_CLNO   </td><td>           </td><td>15         </td><td>double     </td><td>8          </td><td>12         </td><td>0          </td><td>0          </td></tr>\n",
       "\t<tr><td>IMP_DEBTINC</td><td>           </td><td>16         </td><td>double     </td><td>8          </td><td>12         </td><td>0          </td><td>0          </td></tr>\n",
       "\t<tr><td>IMP_DELINQ </td><td>           </td><td>17         </td><td>double     </td><td>8          </td><td>12         </td><td>0          </td><td>0          </td></tr>\n",
       "\t<tr><td>IMP_DEROG  </td><td>           </td><td>18         </td><td>double     </td><td>8          </td><td>12         </td><td>0          </td><td>0          </td></tr>\n",
       "\t<tr><td>IMP_LOAN   </td><td>           </td><td>19         </td><td>double     </td><td>8          </td><td>12         </td><td>0          </td><td>0          </td></tr>\n",
       "\t<tr><td>IMP_MORTDUE</td><td>           </td><td>20         </td><td>double     </td><td>8          </td><td>12         </td><td>0          </td><td>0          </td></tr>\n",
       "\t<tr><td>IMP_NINQ   </td><td>           </td><td>21         </td><td>double     </td><td>8          </td><td>12         </td><td>0          </td><td>0          </td></tr>\n",
       "\t<tr><td>IMP_VALUE  </td><td>           </td><td>22         </td><td>double     </td><td>8          </td><td>12         </td><td>0          </td><td>0          </td></tr>\n",
       "\t<tr><td>IMP_YOJ    </td><td>           </td><td>23         </td><td>double     </td><td>8          </td><td>12         </td><td>0          </td><td>0          </td></tr>\n",
       "\t<tr><td>IMP_JOB    </td><td>           </td><td>24         </td><td>varchar    </td><td>7          </td><td> 7         </td><td>0          </td><td>0          </td></tr>\n",
       "\t<tr><td>IMP_REASON </td><td>           </td><td>25         </td><td>varchar    </td><td>7          </td><td> 7         </td><td>0          </td><td>0          </td></tr>\n",
       "</tbody>\n",
       "</table>\n"
      ],
      "text/latex": [
       "\\begin{tabular}{r|llllllll}\n",
       " Column & Label & ID & Type & RawLength & FormattedLength & NFL & NFD\\\\\n",
       "\\hline\n",
       "\t BAD         &             & 1           & double      & 8           & 12          & 0           & 0          \\\\\n",
       "\t LOAN        &             & 2           & double      & 8           & 12          & 0           & 0          \\\\\n",
       "\t MORTDUE     &             & 3           & double      & 8           & 12          & 0           & 0          \\\\\n",
       "\t VALUE       &             & 4           & double      & 8           & 12          & 0           & 0          \\\\\n",
       "\t REASON      &             & 5           & varchar     & 7           &  7          & 0           & 0          \\\\\n",
       "\t JOB         &             & 6           & varchar     & 7           &  7          & 0           & 0          \\\\\n",
       "\t YOJ         &             & 7           & double      & 8           & 12          & 0           & 0          \\\\\n",
       "\t DEROG       &             & 8           & double      & 8           & 12          & 0           & 0          \\\\\n",
       "\t DELINQ      &             & 9           & double      & 8           & 12          & 0           & 0          \\\\\n",
       "\t CLAGE       &             & 10          & double      & 8           & 12          & 0           & 0          \\\\\n",
       "\t NINQ        &             & 11          & double      & 8           & 12          & 0           & 0          \\\\\n",
       "\t CLNO        &             & 12          & double      & 8           & 12          & 0           & 0          \\\\\n",
       "\t DEBTINC     &             & 13          & double      & 8           & 12          & 0           & 0          \\\\\n",
       "\t IMP\\_CLAGE   &               & 14            & double        & 8             & 12            & 0             & 0            \\\\\n",
       "\t IMP\\_CLNO    &               & 15            & double        & 8             & 12            & 0             & 0            \\\\\n",
       "\t IMP\\_DEBTINC &               & 16            & double        & 8             & 12            & 0             & 0            \\\\\n",
       "\t IMP\\_DELINQ  &               & 17            & double        & 8             & 12            & 0             & 0            \\\\\n",
       "\t IMP\\_DEROG   &               & 18            & double        & 8             & 12            & 0             & 0            \\\\\n",
       "\t IMP\\_LOAN    &               & 19            & double        & 8             & 12            & 0             & 0            \\\\\n",
       "\t IMP\\_MORTDUE &               & 20            & double        & 8             & 12            & 0             & 0            \\\\\n",
       "\t IMP\\_NINQ    &               & 21            & double        & 8             & 12            & 0             & 0            \\\\\n",
       "\t IMP\\_VALUE   &               & 22            & double        & 8             & 12            & 0             & 0            \\\\\n",
       "\t IMP\\_YOJ     &               & 23            & double        & 8             & 12            & 0             & 0            \\\\\n",
       "\t IMP\\_JOB     &               & 24            & varchar       & 7             &  7            & 0             & 0            \\\\\n",
       "\t IMP\\_REASON  &               & 25            & varchar       & 7             &  7            & 0             & 0            \\\\\n",
       "\\end{tabular}\n"
      ],
      "text/markdown": [
       "\n",
       "Column | Label | ID | Type | RawLength | FormattedLength | NFL | NFD | \n",
       "|---|---|---|---|---|---|---|---|---|---|---|---|---|---|---|---|---|---|---|---|---|---|---|---|---|\n",
       "| BAD         |             | 1           | double      | 8           | 12          | 0           | 0           | \n",
       "| LOAN        |             | 2           | double      | 8           | 12          | 0           | 0           | \n",
       "| MORTDUE     |             | 3           | double      | 8           | 12          | 0           | 0           | \n",
       "| VALUE       |             | 4           | double      | 8           | 12          | 0           | 0           | \n",
       "| REASON      |             | 5           | varchar     | 7           |  7          | 0           | 0           | \n",
       "| JOB         |             | 6           | varchar     | 7           |  7          | 0           | 0           | \n",
       "| YOJ         |             | 7           | double      | 8           | 12          | 0           | 0           | \n",
       "| DEROG       |             | 8           | double      | 8           | 12          | 0           | 0           | \n",
       "| DELINQ      |             | 9           | double      | 8           | 12          | 0           | 0           | \n",
       "| CLAGE       |             | 10          | double      | 8           | 12          | 0           | 0           | \n",
       "| NINQ        |             | 11          | double      | 8           | 12          | 0           | 0           | \n",
       "| CLNO        |             | 12          | double      | 8           | 12          | 0           | 0           | \n",
       "| DEBTINC     |             | 13          | double      | 8           | 12          | 0           | 0           | \n",
       "| IMP_CLAGE   |             | 14          | double      | 8           | 12          | 0           | 0           | \n",
       "| IMP_CLNO    |             | 15          | double      | 8           | 12          | 0           | 0           | \n",
       "| IMP_DEBTINC |             | 16          | double      | 8           | 12          | 0           | 0           | \n",
       "| IMP_DELINQ  |             | 17          | double      | 8           | 12          | 0           | 0           | \n",
       "| IMP_DEROG   |             | 18          | double      | 8           | 12          | 0           | 0           | \n",
       "| IMP_LOAN    |             | 19          | double      | 8           | 12          | 0           | 0           | \n",
       "| IMP_MORTDUE |             | 20          | double      | 8           | 12          | 0           | 0           | \n",
       "| IMP_NINQ    |             | 21          | double      | 8           | 12          | 0           | 0           | \n",
       "| IMP_VALUE   |             | 22          | double      | 8           | 12          | 0           | 0           | \n",
       "| IMP_YOJ     |             | 23          | double      | 8           | 12          | 0           | 0           | \n",
       "| IMP_JOB     |             | 24          | varchar     | 7           |  7          | 0           | 0           | \n",
       "| IMP_REASON  |             | 25          | varchar     | 7           |  7          | 0           | 0           | \n",
       "\n",
       "\n"
      ],
      "text/plain": [
       "   Column      Label ID Type    RawLength FormattedLength NFL NFD\n",
       "1  BAD               1  double  8         12              0   0  \n",
       "2  LOAN              2  double  8         12              0   0  \n",
       "3  MORTDUE           3  double  8         12              0   0  \n",
       "4  VALUE             4  double  8         12              0   0  \n",
       "5  REASON            5  varchar 7          7              0   0  \n",
       "6  JOB               6  varchar 7          7              0   0  \n",
       "7  YOJ               7  double  8         12              0   0  \n",
       "8  DEROG             8  double  8         12              0   0  \n",
       "9  DELINQ            9  double  8         12              0   0  \n",
       "10 CLAGE             10 double  8         12              0   0  \n",
       "11 NINQ              11 double  8         12              0   0  \n",
       "12 CLNO              12 double  8         12              0   0  \n",
       "13 DEBTINC           13 double  8         12              0   0  \n",
       "14 IMP_CLAGE         14 double  8         12              0   0  \n",
       "15 IMP_CLNO          15 double  8         12              0   0  \n",
       "16 IMP_DEBTINC       16 double  8         12              0   0  \n",
       "17 IMP_DELINQ        17 double  8         12              0   0  \n",
       "18 IMP_DEROG         18 double  8         12              0   0  \n",
       "19 IMP_LOAN          19 double  8         12              0   0  \n",
       "20 IMP_MORTDUE       20 double  8         12              0   0  \n",
       "21 IMP_NINQ          21 double  8         12              0   0  \n",
       "22 IMP_VALUE         22 double  8         12              0   0  \n",
       "23 IMP_YOJ           23 double  8         12              0   0  \n",
       "24 IMP_JOB           24 varchar 7          7              0   0  \n",
       "25 IMP_REASON        25 varchar 7          7              0   0  "
      ]
     },
     "metadata": {},
     "output_type": "display_data"
    },
    {
     "data": {
      "text/html": [
       "<ol class=list-inline>\n",
       "\t<li>'IMP_CLAGE'</li>\n",
       "\t<li>'IMP_CLNO'</li>\n",
       "\t<li>'IMP_DEBTINC'</li>\n",
       "\t<li>'IMP_DELINQ'</li>\n",
       "\t<li>'IMP_DEROG'</li>\n",
       "\t<li>'IMP_LOAN'</li>\n",
       "\t<li>'IMP_MORTDUE'</li>\n",
       "\t<li>'IMP_NINQ'</li>\n",
       "\t<li>'IMP_VALUE'</li>\n",
       "\t<li>'IMP_YOJ'</li>\n",
       "\t<li>'IMP_JOB'</li>\n",
       "\t<li>'IMP_REASON'</li>\n",
       "</ol>\n"
      ],
      "text/latex": [
       "\\begin{enumerate*}\n",
       "\\item 'IMP\\_CLAGE'\n",
       "\\item 'IMP\\_CLNO'\n",
       "\\item 'IMP\\_DEBTINC'\n",
       "\\item 'IMP\\_DELINQ'\n",
       "\\item 'IMP\\_DEROG'\n",
       "\\item 'IMP\\_LOAN'\n",
       "\\item 'IMP\\_MORTDUE'\n",
       "\\item 'IMP\\_NINQ'\n",
       "\\item 'IMP\\_VALUE'\n",
       "\\item 'IMP\\_YOJ'\n",
       "\\item 'IMP\\_JOB'\n",
       "\\item 'IMP\\_REASON'\n",
       "\\end{enumerate*}\n"
      ],
      "text/markdown": [
       "1. 'IMP_CLAGE'\n",
       "2. 'IMP_CLNO'\n",
       "3. 'IMP_DEBTINC'\n",
       "4. 'IMP_DELINQ'\n",
       "5. 'IMP_DEROG'\n",
       "6. 'IMP_LOAN'\n",
       "7. 'IMP_MORTDUE'\n",
       "8. 'IMP_NINQ'\n",
       "9. 'IMP_VALUE'\n",
       "10. 'IMP_YOJ'\n",
       "11. 'IMP_JOB'\n",
       "12. 'IMP_REASON'\n",
       "\n",
       "\n"
      ],
      "text/plain": [
       " [1] \"IMP_CLAGE\"   \"IMP_CLNO\"    \"IMP_DEBTINC\" \"IMP_DELINQ\"  \"IMP_DEROG\"  \n",
       " [6] \"IMP_LOAN\"    \"IMP_MORTDUE\" \"IMP_NINQ\"    \"IMP_VALUE\"   \"IMP_YOJ\"    \n",
       "[11] \"IMP_JOB\"     \"IMP_REASON\" "
      ]
     },
     "metadata": {},
     "output_type": "display_data"
    },
    {
     "data": {
      "text/html": [
       "<ol class=list-inline>\n",
       "\t<li>'BAD'</li>\n",
       "\t<li>'IMP_JOB'</li>\n",
       "\t<li>'IMP_REASON'</li>\n",
       "</ol>\n"
      ],
      "text/latex": [
       "\\begin{enumerate*}\n",
       "\\item 'BAD'\n",
       "\\item 'IMP\\_JOB'\n",
       "\\item 'IMP\\_REASON'\n",
       "\\end{enumerate*}\n"
      ],
      "text/markdown": [
       "1. 'BAD'\n",
       "2. 'IMP_JOB'\n",
       "3. 'IMP_REASON'\n",
       "\n",
       "\n"
      ],
      "text/plain": [
       "[1] \"BAD\"        \"IMP_JOB\"    \"IMP_REASON\""
      ]
     },
     "metadata": {},
     "output_type": "display_data"
    }
   ],
   "source": [
    "# Get variable info and types\n",
    "colinfo <- head(cas.table.columnInfo(conn, table = indata)$ColumnInfo, -1)\n",
    "colinfo\n",
    "\n",
    "# Target variable is the first column\n",
    "target <- colinfo$Column[1]\n",
    "\n",
    "# Get all variables\n",
    "inputs <- colinfo$Column[-1]\n",
    "nominals <- c(target, subset(colinfo, Type == 'varchar')$Column)\n",
    "\n",
    "# Get only imputed variables\n",
    "inputs <- grep('IMP_', inputs, value = T)\n",
    "nominals <- c(target, grep('IMP_', nominals, value = T))\n",
    "\n",
    "inputs\n",
    "nominals"
   ]
  },
  {
   "cell_type": "markdown",
   "metadata": {},
   "source": [
    "# Model Building"
   ]
  },
  {
   "cell_type": "markdown",
   "metadata": {},
   "source": [
    "## Decision Tree"
   ]
  },
  {
   "cell_type": "code",
   "execution_count": 273,
   "metadata": {
    "collapsed": false
   },
   "outputs": [
    {
     "name": "stderr",
     "output_type": "stream",
     "text": [
      "NOTE: Added action set 'decisionTree'.\n",
      "NOTE: Information for action set 'decisionTree':\n",
      "NOTE:    decisionTree\n",
      "NOTE:       dtreeTrain - Train a decision tree\n",
      "NOTE:       dtreeScore - Score a table using a decision tree model\n",
      "NOTE:       dtreeSplit - Split decision tree nodes\n",
      "NOTE:       dtreePrune - Prune a decision tree\n",
      "NOTE:       dtreeMerge - Merge decision tree nodes\n",
      "NOTE:       dtreeCode - Generate DATA step scoring code from a decision tree model\n",
      "NOTE:       forestTrain - Train a forest\n",
      "NOTE:       forestScore - Score a table using a forest model\n",
      "NOTE:       forestCode - Generate DATA step scoring code from a forest model\n",
      "NOTE:       gbtreeTrain - Train a gradient boosting tree\n",
      "NOTE:       gbtreeScore - Score a table using a gradient boosting tree model\n",
      "NOTE:       gbtreecode - Generate DATA step scoring code from a gradient boosting tree model\n"
     ]
    }
   ],
   "source": [
    "# Load the decsion tree actionset\n",
    "loadActionSet(conn, 'decisionTree')"
   ]
  },
  {
   "cell_type": "code",
   "execution_count": 274,
   "metadata": {
    "collapsed": false
   },
   "outputs": [
    {
     "data": {
      "text/html": [
       "<dl>\n",
       "\t<dt>$DTreeVarImpInfo</dt>\n",
       "\t\t<dd><table>\n",
       "<thead><tr><th scope=col>Variable</th><th scope=col>Importance</th><th scope=col>Std</th><th scope=col>Count</th></tr></thead>\n",
       "<tbody>\n",
       "\t<tr><td>IMP_DELINQ </td><td>50.131706  </td><td>0          </td><td>1          </td></tr>\n",
       "\t<tr><td>IMP_DEBTINC</td><td>35.264441  </td><td>0          </td><td>1          </td></tr>\n",
       "\t<tr><td>IMP_DEROG  </td><td>14.500314  </td><td>0          </td><td>1          </td></tr>\n",
       "\t<tr><td>IMP_CLNO   </td><td>13.249870  </td><td>0          </td><td>1          </td></tr>\n",
       "\t<tr><td>IMP_VALUE  </td><td> 9.313573  </td><td>0          </td><td>1          </td></tr>\n",
       "</tbody>\n",
       "</table>\n",
       "</dd>\n",
       "\t<dt>$ModelInfo</dt>\n",
       "\t\t<dd><table>\n",
       "<thead><tr><th scope=col>Descr</th><th scope=col>Value</th></tr></thead>\n",
       "<tbody>\n",
       "\t<tr><td>Number of Tree Nodes        </td><td>  11.00000                  </td></tr>\n",
       "\t<tr><td>Max Number of Branches      </td><td>   2.00000                  </td></tr>\n",
       "\t<tr><td>Number of Levels            </td><td>   6.00000                  </td></tr>\n",
       "\t<tr><td>Number of Leaves            </td><td>   6.00000                  </td></tr>\n",
       "\t<tr><td>Number of Bins              </td><td>  20.00000                  </td></tr>\n",
       "\t<tr><td>Minimum Size of Leaves      </td><td>   7.00000                  </td></tr>\n",
       "\t<tr><td>Maximum Size of Leaves      </td><td>4078.00000                  </td></tr>\n",
       "\t<tr><td>Number of Variables         </td><td>  12.00000                  </td></tr>\n",
       "\t<tr><td>Confidence Level for Pruning</td><td>   0.25000                  </td></tr>\n",
       "\t<tr><td>Number of Observations Used </td><td>4172.00000                  </td></tr>\n",
       "\t<tr><td>Misclassification Error (%) </td><td>  17.95302                  </td></tr>\n",
       "</tbody>\n",
       "</table>\n",
       "</dd>\n",
       "\t<dt>$OutputCasTables</dt>\n",
       "\t\t<dd><table>\n",
       "<thead><tr><th scope=col>casLib</th><th scope=col>Name</th><th scope=col>Rows</th><th scope=col>Columns</th></tr></thead>\n",
       "<tbody>\n",
       "\t<tr><td>CASUSER(student)</td><td>dt_model        </td><td>11              </td><td>27              </td></tr>\n",
       "</tbody>\n",
       "</table>\n",
       "</dd>\n",
       "</dl>\n"
      ],
      "text/latex": [
       "\\begin{description}\n",
       "\\item[\\$DTreeVarImpInfo] \\begin{tabular}{r|llll}\n",
       " Variable & Importance & Std & Count\\\\\n",
       "\\hline\n",
       "\t IMP\\_DELINQ  & 50.131706     & 0             & 1            \\\\\n",
       "\t IMP\\_DEBTINC & 35.264441     & 0             & 1            \\\\\n",
       "\t IMP\\_DEROG   & 14.500314     & 0             & 1            \\\\\n",
       "\t IMP\\_CLNO    & 13.249870     & 0             & 1            \\\\\n",
       "\t IMP\\_VALUE   &  9.313573     & 0             & 1            \\\\\n",
       "\\end{tabular}\n",
       "\n",
       "\\item[\\$ModelInfo] \\begin{tabular}{r|ll}\n",
       " Descr & Value\\\\\n",
       "\\hline\n",
       "\t Number of Tree Nodes         &   11.00000                  \\\\\n",
       "\t Max Number of Branches       &    2.00000                  \\\\\n",
       "\t Number of Levels             &    6.00000                  \\\\\n",
       "\t Number of Leaves             &    6.00000                  \\\\\n",
       "\t Number of Bins               &   20.00000                  \\\\\n",
       "\t Minimum Size of Leaves       &    7.00000                  \\\\\n",
       "\t Maximum Size of Leaves       & 4078.00000                  \\\\\n",
       "\t Number of Variables          &   12.00000                  \\\\\n",
       "\t Confidence Level for Pruning &    0.25000                  \\\\\n",
       "\t Number of Observations Used  & 4172.00000                  \\\\\n",
       "\t Misclassification Error (\\%)  &   17.95302                    \\\\\n",
       "\\end{tabular}\n",
       "\n",
       "\\item[\\$OutputCasTables] \\begin{tabular}{r|llll}\n",
       " casLib & Name & Rows & Columns\\\\\n",
       "\\hline\n",
       "\t CASUSER(student) & dt\\_model       & 11               & 27              \\\\\n",
       "\\end{tabular}\n",
       "\n",
       "\\end{description}\n"
      ],
      "text/markdown": [
       "$DTreeVarImpInfo\n",
       ":   \n",
       "Variable | Importance | Std | Count | \n",
       "|---|---|---|---|---|\n",
       "| IMP_DELINQ  | 50.131706   | 0           | 1           | \n",
       "| IMP_DEBTINC | 35.264441   | 0           | 1           | \n",
       "| IMP_DEROG   | 14.500314   | 0           | 1           | \n",
       "| IMP_CLNO    | 13.249870   | 0           | 1           | \n",
       "| IMP_VALUE   |  9.313573   | 0           | 1           | \n",
       "\n",
       "\n",
       "\n",
       "$ModelInfo\n",
       ":   \n",
       "Descr | Value | \n",
       "|---|---|---|---|---|---|---|---|---|---|---|\n",
       "| Number of Tree Nodes         |   11.00000                   | \n",
       "| Max Number of Branches       |    2.00000                   | \n",
       "| Number of Levels             |    6.00000                   | \n",
       "| Number of Leaves             |    6.00000                   | \n",
       "| Number of Bins               |   20.00000                   | \n",
       "| Minimum Size of Leaves       |    7.00000                   | \n",
       "| Maximum Size of Leaves       | 4078.00000                   | \n",
       "| Number of Variables          |   12.00000                   | \n",
       "| Confidence Level for Pruning |    0.25000                   | \n",
       "| Number of Observations Used  | 4172.00000                   | \n",
       "| Misclassification Error (%)  |   17.95302                   | \n",
       "\n",
       "\n",
       "\n",
       "$OutputCasTables\n",
       ":   \n",
       "casLib | Name | Rows | Columns | \n",
       "|---|\n",
       "| CASUSER(student) | dt_model         | 11               | 27               | \n",
       "\n",
       "\n",
       "\n",
       "\n",
       "\n"
      ],
      "text/plain": [
       "$DTreeVarImpInfo\n",
       "     Variable Importance Std Count\n",
       "1  IMP_DELINQ  50.131706   0     1\n",
       "2 IMP_DEBTINC  35.264441   0     1\n",
       "3   IMP_DEROG  14.500314   0     1\n",
       "4    IMP_CLNO  13.249870   0     1\n",
       "5   IMP_VALUE   9.313573   0     1\n",
       "\n",
       "$ModelInfo\n",
       "                          Descr      Value\n",
       "1          Number of Tree Nodes   11.00000\n",
       "2        Max Number of Branches    2.00000\n",
       "3              Number of Levels    6.00000\n",
       "4              Number of Leaves    6.00000\n",
       "5                Number of Bins   20.00000\n",
       "6        Minimum Size of Leaves    7.00000\n",
       "7        Maximum Size of Leaves 4078.00000\n",
       "8           Number of Variables   12.00000\n",
       "9  Confidence Level for Pruning    0.25000\n",
       "10  Number of Observations Used 4172.00000\n",
       "11  Misclassification Error (%)   17.95302\n",
       "\n",
       "$OutputCasTables\n",
       "            casLib     Name Rows Columns\n",
       "1 CASUSER(student) dt_model   11      27\n"
      ]
     },
     "metadata": {},
     "output_type": "display_data"
    }
   ],
   "source": [
    "# Train the decision tree model\n",
    "cas.decisionTree.dtreeTrain(conn,\n",
    "    table    = list(name = indata, where = '_PartInd_ = 1'),\n",
    "    target   = target, \n",
    "    inputs   = inputs, \n",
    "    nominals = nominals,\n",
    "    varImp   = TRUE,\n",
    "    casOut   = list(name = 'dt_model', replace = TRUE)\n",
    ")"
   ]
  },
  {
   "cell_type": "markdown",
   "metadata": {},
   "source": [
    "## Random Forest"
   ]
  },
  {
   "cell_type": "code",
   "execution_count": 275,
   "metadata": {
    "collapsed": false
   },
   "outputs": [
    {
     "data": {
      "text/html": [
       "<dl>\n",
       "\t<dt>$ModelInfo</dt>\n",
       "\t\t<dd><table>\n",
       "<thead><tr><th scope=col>Descr</th><th scope=col>Value</th></tr></thead>\n",
       "<tbody>\n",
       "\t<tr><td>Number of Trees                 </td><td>  50.00000                      </td></tr>\n",
       "\t<tr><td>Number of Selected Variables (M)</td><td>   4.00000                      </td></tr>\n",
       "\t<tr><td>Random Number Seed              </td><td>   0.00000                      </td></tr>\n",
       "\t<tr><td>Bootstrap Percentage (%)        </td><td>  63.21206                      </td></tr>\n",
       "\t<tr><td>Number of Bins                  </td><td>  20.00000                      </td></tr>\n",
       "\t<tr><td>Number of Variables             </td><td>  12.00000                      </td></tr>\n",
       "\t<tr><td>Confidence Level for Pruning    </td><td>   0.25000                      </td></tr>\n",
       "\t<tr><td>Max Number of Tree Nodes        </td><td>  25.00000                      </td></tr>\n",
       "\t<tr><td>Min Number of Tree Nodes        </td><td>  11.00000                      </td></tr>\n",
       "\t<tr><td>Max Number of Branches          </td><td>   2.00000                      </td></tr>\n",
       "\t<tr><td>Min Number of Branches          </td><td>   2.00000                      </td></tr>\n",
       "\t<tr><td>Max Number of Levels            </td><td>   6.00000                      </td></tr>\n",
       "\t<tr><td>Min Number of Levels            </td><td>   6.00000                      </td></tr>\n",
       "\t<tr><td>Max Number of Leaves            </td><td>  13.00000                      </td></tr>\n",
       "\t<tr><td>Min Number of Leaves            </td><td>   6.00000                      </td></tr>\n",
       "\t<tr><td>Maximum Size of Leaves          </td><td>2586.00000                      </td></tr>\n",
       "\t<tr><td>Minimum Size of Leaves          </td><td>   5.00000                      </td></tr>\n",
       "\t<tr><td>Out-of-Bag MCR (%)              </td><td>       NaN                      </td></tr>\n",
       "</tbody>\n",
       "</table>\n",
       "</dd>\n",
       "\t<dt>$OutputCasTables</dt>\n",
       "\t\t<dd><table>\n",
       "<thead><tr><th scope=col>casLib</th><th scope=col>Name</th><th scope=col>Rows</th><th scope=col>Columns</th></tr></thead>\n",
       "<tbody>\n",
       "\t<tr><td>CASUSER(student)</td><td>rf_model        </td><td>692             </td><td>37              </td></tr>\n",
       "</tbody>\n",
       "</table>\n",
       "</dd>\n",
       "</dl>\n"
      ],
      "text/latex": [
       "\\begin{description}\n",
       "\\item[\\$ModelInfo] \\begin{tabular}{r|ll}\n",
       " Descr & Value\\\\\n",
       "\\hline\n",
       "\t Number of Trees                  &   50.00000                      \\\\\n",
       "\t Number of Selected Variables (M) &    4.00000                      \\\\\n",
       "\t Random Number Seed               &    0.00000                      \\\\\n",
       "\t Bootstrap Percentage (\\%)         &   63.21206                        \\\\\n",
       "\t Number of Bins                   &   20.00000                      \\\\\n",
       "\t Number of Variables              &   12.00000                      \\\\\n",
       "\t Confidence Level for Pruning     &    0.25000                      \\\\\n",
       "\t Max Number of Tree Nodes         &   25.00000                      \\\\\n",
       "\t Min Number of Tree Nodes         &   11.00000                      \\\\\n",
       "\t Max Number of Branches           &    2.00000                      \\\\\n",
       "\t Min Number of Branches           &    2.00000                      \\\\\n",
       "\t Max Number of Levels             &    6.00000                      \\\\\n",
       "\t Min Number of Levels             &    6.00000                      \\\\\n",
       "\t Max Number of Leaves             &   13.00000                      \\\\\n",
       "\t Min Number of Leaves             &    6.00000                      \\\\\n",
       "\t Maximum Size of Leaves           & 2586.00000                      \\\\\n",
       "\t Minimum Size of Leaves           &    5.00000                      \\\\\n",
       "\t Out-of-Bag MCR (\\%)               &        NaN                        \\\\\n",
       "\\end{tabular}\n",
       "\n",
       "\\item[\\$OutputCasTables] \\begin{tabular}{r|llll}\n",
       " casLib & Name & Rows & Columns\\\\\n",
       "\\hline\n",
       "\t CASUSER(student) & rf\\_model       & 692              & 37              \\\\\n",
       "\\end{tabular}\n",
       "\n",
       "\\end{description}\n"
      ],
      "text/markdown": [
       "$ModelInfo\n",
       ":   \n",
       "Descr | Value | \n",
       "|---|---|---|---|---|---|---|---|---|---|---|---|---|---|---|---|---|---|\n",
       "| Number of Trees                  |   50.00000                       | \n",
       "| Number of Selected Variables (M) |    4.00000                       | \n",
       "| Random Number Seed               |    0.00000                       | \n",
       "| Bootstrap Percentage (%)         |   63.21206                       | \n",
       "| Number of Bins                   |   20.00000                       | \n",
       "| Number of Variables              |   12.00000                       | \n",
       "| Confidence Level for Pruning     |    0.25000                       | \n",
       "| Max Number of Tree Nodes         |   25.00000                       | \n",
       "| Min Number of Tree Nodes         |   11.00000                       | \n",
       "| Max Number of Branches           |    2.00000                       | \n",
       "| Min Number of Branches           |    2.00000                       | \n",
       "| Max Number of Levels             |    6.00000                       | \n",
       "| Min Number of Levels             |    6.00000                       | \n",
       "| Max Number of Leaves             |   13.00000                       | \n",
       "| Min Number of Leaves             |    6.00000                       | \n",
       "| Maximum Size of Leaves           | 2586.00000                       | \n",
       "| Minimum Size of Leaves           |    5.00000                       | \n",
       "| Out-of-Bag MCR (%)               |        NaN                       | \n",
       "\n",
       "\n",
       "\n",
       "$OutputCasTables\n",
       ":   \n",
       "casLib | Name | Rows | Columns | \n",
       "|---|\n",
       "| CASUSER(student) | rf_model         | 692              | 37               | \n",
       "\n",
       "\n",
       "\n",
       "\n",
       "\n"
      ],
      "text/plain": [
       "$ModelInfo\n",
       "                              Descr      Value\n",
       "1                   Number of Trees   50.00000\n",
       "2  Number of Selected Variables (M)    4.00000\n",
       "3                Random Number Seed    0.00000\n",
       "4          Bootstrap Percentage (%)   63.21206\n",
       "5                    Number of Bins   20.00000\n",
       "6               Number of Variables   12.00000\n",
       "7      Confidence Level for Pruning    0.25000\n",
       "8          Max Number of Tree Nodes   25.00000\n",
       "9          Min Number of Tree Nodes   11.00000\n",
       "10           Max Number of Branches    2.00000\n",
       "11           Min Number of Branches    2.00000\n",
       "12             Max Number of Levels    6.00000\n",
       "13             Min Number of Levels    6.00000\n",
       "14             Max Number of Leaves   13.00000\n",
       "15             Min Number of Leaves    6.00000\n",
       "16           Maximum Size of Leaves 2586.00000\n",
       "17           Minimum Size of Leaves    5.00000\n",
       "18               Out-of-Bag MCR (%)        NaN\n",
       "\n",
       "$OutputCasTables\n",
       "            casLib     Name Rows Columns\n",
       "1 CASUSER(student) rf_model  692      37\n"
      ]
     },
     "metadata": {},
     "output_type": "display_data"
    }
   ],
   "source": [
    "# Train the random forest model\n",
    "cas.decisionTree.forestTrain(conn,\n",
    "    table    = list(name = indata, where = '_PartInd_ = 1'),\n",
    "    target   = target, \n",
    "    inputs   = inputs, \n",
    "    nominals = nominals,\n",
    "    casOut   = list(name = 'rf_model', replace = TRUE)\n",
    ")"
   ]
  },
  {
   "cell_type": "markdown",
   "metadata": {},
   "source": [
    "## Gradient Boosting"
   ]
  },
  {
   "cell_type": "code",
   "execution_count": 276,
   "metadata": {
    "collapsed": false
   },
   "outputs": [
    {
     "data": {
      "text/html": [
       "<dl>\n",
       "\t<dt>$ModelInfo</dt>\n",
       "\t\t<dd><table>\n",
       "<thead><tr><th scope=col>Descr</th><th scope=col>Value</th></tr></thead>\n",
       "<tbody>\n",
       "\t<tr><td>Number of Trees                 </td><td>  50.0                          </td></tr>\n",
       "\t<tr><td>Distribution                    </td><td>   2.0                          </td></tr>\n",
       "\t<tr><td>Learning Rate                   </td><td>   0.1                          </td></tr>\n",
       "\t<tr><td>Subsampling Rate                </td><td>   0.5                          </td></tr>\n",
       "\t<tr><td>Number of Selected Variables (M)</td><td>  12.0                          </td></tr>\n",
       "\t<tr><td>Number of Bins                  </td><td>  20.0                          </td></tr>\n",
       "\t<tr><td>Number of Variables             </td><td>  12.0                          </td></tr>\n",
       "\t<tr><td>Max Number of Tree Nodes        </td><td>  61.0                          </td></tr>\n",
       "\t<tr><td>Min Number of Tree Nodes        </td><td>  23.0                          </td></tr>\n",
       "\t<tr><td>Max Number of Branches          </td><td>   2.0                          </td></tr>\n",
       "\t<tr><td>Min Number of Branches          </td><td>   2.0                          </td></tr>\n",
       "\t<tr><td>Max Number of Levels            </td><td>   6.0                          </td></tr>\n",
       "\t<tr><td>Min Number of Levels            </td><td>   6.0                          </td></tr>\n",
       "\t<tr><td>Max Number of Leaves            </td><td>  31.0                          </td></tr>\n",
       "\t<tr><td>Min Number of Leaves            </td><td>  12.0                          </td></tr>\n",
       "\t<tr><td>Maximum Size of Leaves          </td><td>1911.0                          </td></tr>\n",
       "\t<tr><td>Minimum Size of Leaves          </td><td>   5.0                          </td></tr>\n",
       "\t<tr><td>Random Number Seed              </td><td>   0.0                          </td></tr>\n",
       "</tbody>\n",
       "</table>\n",
       "</dd>\n",
       "\t<dt>$OutputCasTables</dt>\n",
       "\t\t<dd><table>\n",
       "<thead><tr><th scope=col>casLib</th><th scope=col>Name</th><th scope=col>Rows</th><th scope=col>Columns</th></tr></thead>\n",
       "<tbody>\n",
       "\t<tr><td>CASUSER(student)</td><td>gbt_model       </td><td>2308            </td><td>29              </td></tr>\n",
       "</tbody>\n",
       "</table>\n",
       "</dd>\n",
       "</dl>\n"
      ],
      "text/latex": [
       "\\begin{description}\n",
       "\\item[\\$ModelInfo] \\begin{tabular}{r|ll}\n",
       " Descr & Value\\\\\n",
       "\\hline\n",
       "\t Number of Trees                  &   50.0                          \\\\\n",
       "\t Distribution                     &    2.0                          \\\\\n",
       "\t Learning Rate                    &    0.1                          \\\\\n",
       "\t Subsampling Rate                 &    0.5                          \\\\\n",
       "\t Number of Selected Variables (M) &   12.0                          \\\\\n",
       "\t Number of Bins                   &   20.0                          \\\\\n",
       "\t Number of Variables              &   12.0                          \\\\\n",
       "\t Max Number of Tree Nodes         &   61.0                          \\\\\n",
       "\t Min Number of Tree Nodes         &   23.0                          \\\\\n",
       "\t Max Number of Branches           &    2.0                          \\\\\n",
       "\t Min Number of Branches           &    2.0                          \\\\\n",
       "\t Max Number of Levels             &    6.0                          \\\\\n",
       "\t Min Number of Levels             &    6.0                          \\\\\n",
       "\t Max Number of Leaves             &   31.0                          \\\\\n",
       "\t Min Number of Leaves             &   12.0                          \\\\\n",
       "\t Maximum Size of Leaves           & 1911.0                          \\\\\n",
       "\t Minimum Size of Leaves           &    5.0                          \\\\\n",
       "\t Random Number Seed               &    0.0                          \\\\\n",
       "\\end{tabular}\n",
       "\n",
       "\\item[\\$OutputCasTables] \\begin{tabular}{r|llll}\n",
       " casLib & Name & Rows & Columns\\\\\n",
       "\\hline\n",
       "\t CASUSER(student) & gbt\\_model      & 2308             & 29              \\\\\n",
       "\\end{tabular}\n",
       "\n",
       "\\end{description}\n"
      ],
      "text/markdown": [
       "$ModelInfo\n",
       ":   \n",
       "Descr | Value | \n",
       "|---|---|---|---|---|---|---|---|---|---|---|---|---|---|---|---|---|---|\n",
       "| Number of Trees                  |   50.0                           | \n",
       "| Distribution                     |    2.0                           | \n",
       "| Learning Rate                    |    0.1                           | \n",
       "| Subsampling Rate                 |    0.5                           | \n",
       "| Number of Selected Variables (M) |   12.0                           | \n",
       "| Number of Bins                   |   20.0                           | \n",
       "| Number of Variables              |   12.0                           | \n",
       "| Max Number of Tree Nodes         |   61.0                           | \n",
       "| Min Number of Tree Nodes         |   23.0                           | \n",
       "| Max Number of Branches           |    2.0                           | \n",
       "| Min Number of Branches           |    2.0                           | \n",
       "| Max Number of Levels             |    6.0                           | \n",
       "| Min Number of Levels             |    6.0                           | \n",
       "| Max Number of Leaves             |   31.0                           | \n",
       "| Min Number of Leaves             |   12.0                           | \n",
       "| Maximum Size of Leaves           | 1911.0                           | \n",
       "| Minimum Size of Leaves           |    5.0                           | \n",
       "| Random Number Seed               |    0.0                           | \n",
       "\n",
       "\n",
       "\n",
       "$OutputCasTables\n",
       ":   \n",
       "casLib | Name | Rows | Columns | \n",
       "|---|\n",
       "| CASUSER(student) | gbt_model        | 2308             | 29               | \n",
       "\n",
       "\n",
       "\n",
       "\n",
       "\n"
      ],
      "text/plain": [
       "$ModelInfo\n",
       "                              Descr  Value\n",
       "1                   Number of Trees   50.0\n",
       "2                      Distribution    2.0\n",
       "3                     Learning Rate    0.1\n",
       "4                  Subsampling Rate    0.5\n",
       "5  Number of Selected Variables (M)   12.0\n",
       "6                    Number of Bins   20.0\n",
       "7               Number of Variables   12.0\n",
       "8          Max Number of Tree Nodes   61.0\n",
       "9          Min Number of Tree Nodes   23.0\n",
       "10           Max Number of Branches    2.0\n",
       "11           Min Number of Branches    2.0\n",
       "12             Max Number of Levels    6.0\n",
       "13             Min Number of Levels    6.0\n",
       "14             Max Number of Leaves   31.0\n",
       "15             Min Number of Leaves   12.0\n",
       "16           Maximum Size of Leaves 1911.0\n",
       "17           Minimum Size of Leaves    5.0\n",
       "18               Random Number Seed    0.0\n",
       "\n",
       "$OutputCasTables\n",
       "            casLib      Name Rows Columns\n",
       "1 CASUSER(student) gbt_model 2308      29\n"
      ]
     },
     "metadata": {},
     "output_type": "display_data"
    }
   ],
   "source": [
    "# Train the gradient boosting model\n",
    "cas.decisionTree.gbtreeTrain(conn,\n",
    "    table    = list(name = indata, where = '_PartInd_ = 1'),\n",
    "    target   = target, \n",
    "    inputs   = inputs, \n",
    "    nominals = nominals,\n",
    "    casOut   = list(name = 'gbt_model', replace = TRUE)\n",
    ")"
   ]
  },
  {
   "cell_type": "markdown",
   "metadata": {},
   "source": [
    "## Neural Network"
   ]
  },
  {
   "cell_type": "code",
   "execution_count": 277,
   "metadata": {
    "collapsed": false
   },
   "outputs": [
    {
     "name": "stderr",
     "output_type": "stream",
     "text": [
      "NOTE: Added action set 'neuralNet'.\n",
      "NOTE: Information for action set 'neuralNet':\n",
      "NOTE:    neuralNet\n",
      "NOTE:       annTrain - Train an artificial neural network\n",
      "NOTE:       annScore - Score a table using an artificial neural network model\n",
      "NOTE:       annCode - Generate DATA step scoring code from an artificial neural network model\n"
     ]
    }
   ],
   "source": [
    "# Load the neuralNet actionset\n",
    "loadActionSet(conn, 'neuralNet')"
   ]
  },
  {
   "cell_type": "code",
   "execution_count": 278,
   "metadata": {
    "collapsed": false
   },
   "outputs": [
    {
     "data": {
      "text/html": [
       "<dl>\n",
       "\t<dt>$ConvergenceStatus</dt>\n",
       "\t\t<dd><table>\n",
       "<thead><tr><th scope=col>Reason</th></tr></thead>\n",
       "<tbody>\n",
       "\t<tr><td>The optimization exited on maximum iterations.</td></tr>\n",
       "</tbody>\n",
       "</table>\n",
       "</dd>\n",
       "\t<dt>$ModelInfo</dt>\n",
       "\t\t<dd><table>\n",
       "<thead><tr><th scope=col>Descr</th><th scope=col>Value</th></tr></thead>\n",
       "<tbody>\n",
       "\t<tr><td>Model                      </td><td>Neural Net                 </td></tr>\n",
       "\t<tr><td>Number of Observations Used</td><td>4172                       </td></tr>\n",
       "\t<tr><td>Number of Observations Read</td><td>4172                       </td></tr>\n",
       "\t<tr><td>Target/Response Variable   </td><td>BAD                        </td></tr>\n",
       "\t<tr><td>Number of Nodes            </td><td>20                         </td></tr>\n",
       "\t<tr><td>Number of Input Nodes      </td><td>18                         </td></tr>\n",
       "\t<tr><td>Number of Output Nodes     </td><td>2                          </td></tr>\n",
       "\t<tr><td>Number of Hidden Nodes     </td><td>0                          </td></tr>\n",
       "\t<tr><td>Number of Weight Parameters</td><td>18                         </td></tr>\n",
       "\t<tr><td>Number of Bias Parameters  </td><td>2                          </td></tr>\n",
       "\t<tr><td>Architecture               </td><td>GLIM                       </td></tr>\n",
       "\t<tr><td>Number of Neural Nets      </td><td>1                          </td></tr>\n",
       "\t<tr><td>Objective Value            </td><td>1.5710806577               </td></tr>\n",
       "</tbody>\n",
       "</table>\n",
       "</dd>\n",
       "\t<dt>$OptIterHistory</dt>\n",
       "\t\t<dd><table>\n",
       "<thead><tr><th scope=col>Progress</th><th scope=col>Objective</th><th scope=col>Loss</th></tr></thead>\n",
       "<tbody>\n",
       "\t<tr><td> 1      </td><td>5.629505</td><td>5.629505</td></tr>\n",
       "\t<tr><td> 2      </td><td>3.083281</td><td>3.083281</td></tr>\n",
       "\t<tr><td> 3      </td><td>1.711886</td><td>1.711886</td></tr>\n",
       "\t<tr><td> 4      </td><td>1.639309</td><td>1.639309</td></tr>\n",
       "\t<tr><td> 5      </td><td>1.599618</td><td>1.599618</td></tr>\n",
       "\t<tr><td> 6      </td><td>1.586140</td><td>1.586140</td></tr>\n",
       "\t<tr><td> 7      </td><td>1.575248</td><td>1.575248</td></tr>\n",
       "\t<tr><td> 8      </td><td>1.574480</td><td>1.574480</td></tr>\n",
       "\t<tr><td> 9      </td><td>1.571483</td><td>1.571483</td></tr>\n",
       "\t<tr><td>10      </td><td>1.571081</td><td>1.571081</td></tr>\n",
       "</tbody>\n",
       "</table>\n",
       "</dd>\n",
       "\t<dt>$OutputCasTables</dt>\n",
       "\t\t<dd><table>\n",
       "<thead><tr><th scope=col>casLib</th><th scope=col>Name</th><th scope=col>Rows</th><th scope=col>Columns</th></tr></thead>\n",
       "<tbody>\n",
       "\t<tr><td>CASUSER(student)</td><td>nn_model        </td><td>20              </td><td>15              </td></tr>\n",
       "</tbody>\n",
       "</table>\n",
       "</dd>\n",
       "</dl>\n"
      ],
      "text/latex": [
       "\\begin{description}\n",
       "\\item[\\$ConvergenceStatus] \\begin{tabular}{r|l}\n",
       " Reason\\\\\n",
       "\\hline\n",
       "\t The optimization exited on maximum iterations.\\\\\n",
       "\\end{tabular}\n",
       "\n",
       "\\item[\\$ModelInfo] \\begin{tabular}{r|ll}\n",
       " Descr & Value\\\\\n",
       "\\hline\n",
       "\t Model                       & Neural Net                 \\\\\n",
       "\t Number of Observations Used & 4172                       \\\\\n",
       "\t Number of Observations Read & 4172                       \\\\\n",
       "\t Target/Response Variable    & BAD                        \\\\\n",
       "\t Number of Nodes             & 20                         \\\\\n",
       "\t Number of Input Nodes       & 18                         \\\\\n",
       "\t Number of Output Nodes      & 2                          \\\\\n",
       "\t Number of Hidden Nodes      & 0                          \\\\\n",
       "\t Number of Weight Parameters & 18                         \\\\\n",
       "\t Number of Bias Parameters   & 2                          \\\\\n",
       "\t Architecture                & GLIM                       \\\\\n",
       "\t Number of Neural Nets       & 1                          \\\\\n",
       "\t Objective Value             & 1.5710806577               \\\\\n",
       "\\end{tabular}\n",
       "\n",
       "\\item[\\$OptIterHistory] \\begin{tabular}{r|lll}\n",
       " Progress & Objective & Loss\\\\\n",
       "\\hline\n",
       "\t  1       & 5.629505 & 5.629505\\\\\n",
       "\t  2       & 3.083281 & 3.083281\\\\\n",
       "\t  3       & 1.711886 & 1.711886\\\\\n",
       "\t  4       & 1.639309 & 1.639309\\\\\n",
       "\t  5       & 1.599618 & 1.599618\\\\\n",
       "\t  6       & 1.586140 & 1.586140\\\\\n",
       "\t  7       & 1.575248 & 1.575248\\\\\n",
       "\t  8       & 1.574480 & 1.574480\\\\\n",
       "\t  9       & 1.571483 & 1.571483\\\\\n",
       "\t 10       & 1.571081 & 1.571081\\\\\n",
       "\\end{tabular}\n",
       "\n",
       "\\item[\\$OutputCasTables] \\begin{tabular}{r|llll}\n",
       " casLib & Name & Rows & Columns\\\\\n",
       "\\hline\n",
       "\t CASUSER(student) & nn\\_model       & 20               & 15              \\\\\n",
       "\\end{tabular}\n",
       "\n",
       "\\end{description}\n"
      ],
      "text/markdown": [
       "$ConvergenceStatus\n",
       ":   \n",
       "Reason | \n",
       "|---|\n",
       "| The optimization exited on maximum iterations. | \n",
       "\n",
       "\n",
       "\n",
       "$ModelInfo\n",
       ":   \n",
       "Descr | Value | \n",
       "|---|---|---|---|---|---|---|---|---|---|---|---|---|\n",
       "| Model                       | Neural Net                  | \n",
       "| Number of Observations Used | 4172                        | \n",
       "| Number of Observations Read | 4172                        | \n",
       "| Target/Response Variable    | BAD                         | \n",
       "| Number of Nodes             | 20                          | \n",
       "| Number of Input Nodes       | 18                          | \n",
       "| Number of Output Nodes      | 2                           | \n",
       "| Number of Hidden Nodes      | 0                           | \n",
       "| Number of Weight Parameters | 18                          | \n",
       "| Number of Bias Parameters   | 2                           | \n",
       "| Architecture                | GLIM                        | \n",
       "| Number of Neural Nets       | 1                           | \n",
       "| Objective Value             | 1.5710806577                | \n",
       "\n",
       "\n",
       "\n",
       "$OptIterHistory\n",
       ":   \n",
       "Progress | Objective | Loss | \n",
       "|---|---|---|---|---|---|---|---|---|---|\n",
       "|  1       | 5.629505 | 5.629505 | \n",
       "|  2       | 3.083281 | 3.083281 | \n",
       "|  3       | 1.711886 | 1.711886 | \n",
       "|  4       | 1.639309 | 1.639309 | \n",
       "|  5       | 1.599618 | 1.599618 | \n",
       "|  6       | 1.586140 | 1.586140 | \n",
       "|  7       | 1.575248 | 1.575248 | \n",
       "|  8       | 1.574480 | 1.574480 | \n",
       "|  9       | 1.571483 | 1.571483 | \n",
       "| 10       | 1.571081 | 1.571081 | \n",
       "\n",
       "\n",
       "\n",
       "$OutputCasTables\n",
       ":   \n",
       "casLib | Name | Rows | Columns | \n",
       "|---|\n",
       "| CASUSER(student) | nn_model         | 20               | 15               | \n",
       "\n",
       "\n",
       "\n",
       "\n",
       "\n"
      ],
      "text/plain": [
       "$ConvergenceStatus\n",
       "                                          Reason\n",
       "1 The optimization exited on maximum iterations.\n",
       "\n",
       "$ModelInfo\n",
       "                         Descr        Value\n",
       "1                        Model   Neural Net\n",
       "2  Number of Observations Used         4172\n",
       "3  Number of Observations Read         4172\n",
       "4     Target/Response Variable          BAD\n",
       "5              Number of Nodes           20\n",
       "6        Number of Input Nodes           18\n",
       "7       Number of Output Nodes            2\n",
       "8       Number of Hidden Nodes            0\n",
       "9  Number of Weight Parameters           18\n",
       "10   Number of Bias Parameters            2\n",
       "11                Architecture         GLIM\n",
       "12       Number of Neural Nets            1\n",
       "13             Objective Value 1.5710806577\n",
       "\n",
       "$OptIterHistory\n",
       "   Progress Objective     Loss\n",
       "1         1  5.629505 5.629505\n",
       "2         2  3.083281 3.083281\n",
       "3         3  1.711886 1.711886\n",
       "4         4  1.639309 1.639309\n",
       "5         5  1.599618 1.599618\n",
       "6         6  1.586140 1.586140\n",
       "7         7  1.575248 1.575248\n",
       "8         8  1.574480 1.574480\n",
       "9         9  1.571483 1.571483\n",
       "10       10  1.571081 1.571081\n",
       "\n",
       "$OutputCasTables\n",
       "            casLib     Name Rows Columns\n",
       "1 CASUSER(student) nn_model   20      15\n"
      ]
     },
     "metadata": {},
     "output_type": "display_data"
    }
   ],
   "source": [
    "# Build a neural network model\n",
    "cas.neuralNet.annTrain(conn,\n",
    "    table    = list(name = indata, where = '_PartInd_ = 1'),\n",
    "    target   = target, \n",
    "    inputs   = inputs, \n",
    "    nominals = nominals,\n",
    "    casOut   = list(name = 'nn_model', replace = TRUE)\n",
    ")"
   ]
  },
  {
   "cell_type": "markdown",
   "metadata": {},
   "source": [
    "## Score the Models"
   ]
  },
  {
   "cell_type": "code",
   "execution_count": 279,
   "metadata": {
    "collapsed": false
   },
   "outputs": [
    {
     "data": {
      "text/html": [
       "<table>\n",
       "<thead><tr><th scope=col>casLib</th><th scope=col>Name</th><th scope=col>Rows</th><th scope=col>Columns</th></tr></thead>\n",
       "<tbody>\n",
       "\t<tr><td>CASUSER(student)</td><td>dt_scored       </td><td>1788            </td><td>13              </td></tr>\n",
       "</tbody>\n",
       "</table>\n"
      ],
      "text/latex": [
       "\\begin{tabular}{r|llll}\n",
       " casLib & Name & Rows & Columns\\\\\n",
       "\\hline\n",
       "\t CASUSER(student) & dt\\_scored      & 1788             & 13              \\\\\n",
       "\\end{tabular}\n"
      ],
      "text/markdown": [
       "\n",
       "casLib | Name | Rows | Columns | \n",
       "|---|\n",
       "| CASUSER(student) | dt_scored        | 1788             | 13               | \n",
       "\n",
       "\n"
      ],
      "text/plain": [
       "  casLib           Name      Rows Columns\n",
       "1 CASUSER(student) dt_scored 1788 13     "
      ]
     },
     "metadata": {},
     "output_type": "display_data"
    },
    {
     "data": {
      "text/html": [
       "<table>\n",
       "<thead><tr><th scope=col>Descr</th><th scope=col>Value</th></tr></thead>\n",
       "<tbody>\n",
       "\t<tr><td>Number of Observations Read     </td><td>                            1788</td></tr>\n",
       "\t<tr><td>Number of Observations Used     </td><td>                            1788</td></tr>\n",
       "\t<tr><td>Misclassification Error (%)     </td><td>                    17.337807606</td></tr>\n",
       "</tbody>\n",
       "</table>\n"
      ],
      "text/latex": [
       "\\begin{tabular}{r|ll}\n",
       " Descr & Value\\\\\n",
       "\\hline\n",
       "\t Number of Observations Read      &                             1788\\\\\n",
       "\t Number of Observations Used      &                             1788\\\\\n",
       "\t Misclassification Error (\\%)    &                     17.337807606\\\\\n",
       "\\end{tabular}\n"
      ],
      "text/markdown": [
       "\n",
       "Descr | Value | \n",
       "|---|---|---|\n",
       "| Number of Observations Read      |                             1788 | \n",
       "| Number of Observations Used      |                             1788 | \n",
       "| Misclassification Error (%)      |                     17.337807606 | \n",
       "\n",
       "\n"
      ],
      "text/plain": [
       "  Descr                       Value                           \n",
       "1 Number of Observations Read                             1788\n",
       "2 Number of Observations Used                             1788\n",
       "3 Misclassification Error (%)                     17.337807606"
      ]
     },
     "metadata": {},
     "output_type": "display_data"
    },
    {
     "data": {
      "text/html": [
       "<table>\n",
       "<thead><tr><th scope=col>casLib</th><th scope=col>Name</th><th scope=col>Rows</th><th scope=col>Columns</th></tr></thead>\n",
       "<tbody>\n",
       "\t<tr><td>CASUSER(student)</td><td>rf_scored       </td><td>1788            </td><td>6               </td></tr>\n",
       "</tbody>\n",
       "</table>\n"
      ],
      "text/latex": [
       "\\begin{tabular}{r|llll}\n",
       " casLib & Name & Rows & Columns\\\\\n",
       "\\hline\n",
       "\t CASUSER(student) & rf\\_scored      & 1788             & 6               \\\\\n",
       "\\end{tabular}\n"
      ],
      "text/markdown": [
       "\n",
       "casLib | Name | Rows | Columns | \n",
       "|---|\n",
       "| CASUSER(student) | rf_scored        | 1788             | 6                | \n",
       "\n",
       "\n"
      ],
      "text/plain": [
       "  casLib           Name      Rows Columns\n",
       "1 CASUSER(student) rf_scored 1788 6      "
      ]
     },
     "metadata": {},
     "output_type": "display_data"
    },
    {
     "data": {
      "text/html": [
       "<table>\n",
       "<thead><tr><th scope=col>Descr</th><th scope=col>Value</th></tr></thead>\n",
       "<tbody>\n",
       "\t<tr><td>Number of Observations Read     </td><td>                            1788</td></tr>\n",
       "\t<tr><td>Number of Observations Used     </td><td>                            1788</td></tr>\n",
       "\t<tr><td>Misclassification Error (%)     </td><td>                    17.281879195</td></tr>\n",
       "</tbody>\n",
       "</table>\n"
      ],
      "text/latex": [
       "\\begin{tabular}{r|ll}\n",
       " Descr & Value\\\\\n",
       "\\hline\n",
       "\t Number of Observations Read      &                             1788\\\\\n",
       "\t Number of Observations Used      &                             1788\\\\\n",
       "\t Misclassification Error (\\%)    &                     17.281879195\\\\\n",
       "\\end{tabular}\n"
      ],
      "text/markdown": [
       "\n",
       "Descr | Value | \n",
       "|---|---|---|\n",
       "| Number of Observations Read      |                             1788 | \n",
       "| Number of Observations Used      |                             1788 | \n",
       "| Misclassification Error (%)      |                     17.281879195 | \n",
       "\n",
       "\n"
      ],
      "text/plain": [
       "  Descr                       Value                           \n",
       "1 Number of Observations Read                             1788\n",
       "2 Number of Observations Used                             1788\n",
       "3 Misclassification Error (%)                     17.281879195"
      ]
     },
     "metadata": {},
     "output_type": "display_data"
    },
    {
     "data": {
      "text/html": [
       "<table>\n",
       "<thead><tr><th scope=col>casLib</th><th scope=col>Name</th><th scope=col>Rows</th><th scope=col>Columns</th></tr></thead>\n",
       "<tbody>\n",
       "\t<tr><td>CASUSER(student)</td><td>rf_scored       </td><td>1788            </td><td>6               </td></tr>\n",
       "</tbody>\n",
       "</table>\n"
      ],
      "text/latex": [
       "\\begin{tabular}{r|llll}\n",
       " casLib & Name & Rows & Columns\\\\\n",
       "\\hline\n",
       "\t CASUSER(student) & rf\\_scored      & 1788             & 6               \\\\\n",
       "\\end{tabular}\n"
      ],
      "text/markdown": [
       "\n",
       "casLib | Name | Rows | Columns | \n",
       "|---|\n",
       "| CASUSER(student) | rf_scored        | 1788             | 6                | \n",
       "\n",
       "\n"
      ],
      "text/plain": [
       "  casLib           Name      Rows Columns\n",
       "1 CASUSER(student) rf_scored 1788 6      "
      ]
     },
     "metadata": {},
     "output_type": "display_data"
    },
    {
     "data": {
      "text/html": [
       "<table>\n",
       "<thead><tr><th scope=col>Descr</th><th scope=col>Value</th></tr></thead>\n",
       "<tbody>\n",
       "\t<tr><td>Number of Observations Read     </td><td>                            1788</td></tr>\n",
       "\t<tr><td>Number of Observations Used     </td><td>                            1788</td></tr>\n",
       "\t<tr><td>Misclassification Error (%)     </td><td>                    10.067114094</td></tr>\n",
       "</tbody>\n",
       "</table>\n"
      ],
      "text/latex": [
       "\\begin{tabular}{r|ll}\n",
       " Descr & Value\\\\\n",
       "\\hline\n",
       "\t Number of Observations Read      &                             1788\\\\\n",
       "\t Number of Observations Used      &                             1788\\\\\n",
       "\t Misclassification Error (\\%)    &                     10.067114094\\\\\n",
       "\\end{tabular}\n"
      ],
      "text/markdown": [
       "\n",
       "Descr | Value | \n",
       "|---|---|---|\n",
       "| Number of Observations Read      |                             1788 | \n",
       "| Number of Observations Used      |                             1788 | \n",
       "| Misclassification Error (%)      |                     10.067114094 | \n",
       "\n",
       "\n"
      ],
      "text/plain": [
       "  Descr                       Value                           \n",
       "1 Number of Observations Read                             1788\n",
       "2 Number of Observations Used                             1788\n",
       "3 Misclassification Error (%)                     10.067114094"
      ]
     },
     "metadata": {},
     "output_type": "display_data"
    },
    {
     "data": {
      "text/html": [
       "<table>\n",
       "<thead><tr><th scope=col>casLib</th><th scope=col>Name</th><th scope=col>Rows</th><th scope=col>Columns</th></tr></thead>\n",
       "<tbody>\n",
       "\t<tr><td>CASUSER(student)</td><td>rf_scored       </td><td>1788            </td><td>6               </td></tr>\n",
       "</tbody>\n",
       "</table>\n"
      ],
      "text/latex": [
       "\\begin{tabular}{r|llll}\n",
       " casLib & Name & Rows & Columns\\\\\n",
       "\\hline\n",
       "\t CASUSER(student) & rf\\_scored      & 1788             & 6               \\\\\n",
       "\\end{tabular}\n"
      ],
      "text/markdown": [
       "\n",
       "casLib | Name | Rows | Columns | \n",
       "|---|\n",
       "| CASUSER(student) | rf_scored        | 1788             | 6                | \n",
       "\n",
       "\n"
      ],
      "text/plain": [
       "  casLib           Name      Rows Columns\n",
       "1 CASUSER(student) rf_scored 1788 6      "
      ]
     },
     "metadata": {},
     "output_type": "display_data"
    },
    {
     "data": {
      "text/html": [
       "<table>\n",
       "<thead><tr><th scope=col>Descr</th><th scope=col>Value</th></tr></thead>\n",
       "<tbody>\n",
       "\t<tr><td>Number of Observations Read     </td><td>                            1788</td></tr>\n",
       "\t<tr><td>Number of Observations Used     </td><td>                            1788</td></tr>\n",
       "\t<tr><td>Misclassification Error (%)     </td><td>                    15.436241611</td></tr>\n",
       "</tbody>\n",
       "</table>\n"
      ],
      "text/latex": [
       "\\begin{tabular}{r|ll}\n",
       " Descr & Value\\\\\n",
       "\\hline\n",
       "\t Number of Observations Read      &                             1788\\\\\n",
       "\t Number of Observations Used      &                             1788\\\\\n",
       "\t Misclassification Error (\\%)    &                     15.436241611\\\\\n",
       "\\end{tabular}\n"
      ],
      "text/markdown": [
       "\n",
       "Descr | Value | \n",
       "|---|---|---|\n",
       "| Number of Observations Read      |                             1788 | \n",
       "| Number of Observations Used      |                             1788 | \n",
       "| Misclassification Error (%)      |                     15.436241611 | \n",
       "\n",
       "\n"
      ],
      "text/plain": [
       "  Descr                       Value                           \n",
       "1 Number of Observations Read                             1788\n",
       "2 Number of Observations Used                             1788\n",
       "3 Misclassification Error (%)                     15.436241611"
      ]
     },
     "metadata": {},
     "output_type": "display_data"
    }
   ],
   "source": [
    "#Create table object for the imputed and partitioned data\n",
    "pardata = defCasTable(conn, indata)\n",
    "\n",
    "#Score the decision tree model\n",
    "dt_score_obj = cas.decisionTree.dtreeScore(\n",
    "   pardata[pardata$`_PartInd_` == 0,],\n",
    "   model = \"dt_model\",\n",
    "   casout = list(name=\"dt_scored\",replace=TRUE),\n",
    "   copyVars = list(target),\n",
    "   encodename = TRUE,\n",
    "   assessonerow = TRUE\n",
    ")\n",
    "\n",
    "#Score the random forest model\n",
    "rf_score_obj = cas.decisionTree.forestScore(\n",
    "   pardata[pardata$`_PartInd_` == 0,],\n",
    "   model = \"rf_model\",\n",
    "   casout = list(name=\"rf_scored\",replace=TRUE),\n",
    "   copyVars = list(target),\n",
    "   encodename = TRUE,\n",
    "   assessonerow = TRUE\n",
    ")\n",
    "\n",
    "#Score the gradient boosting model\n",
    "gbt_score_obj = cas.decisionTree.gbtreeScore(\n",
    "   pardata[pardata$`_PartInd_` == 0,],\n",
    "   model = \"gbt_model\",\n",
    "   casout = list(name=\"gbt_scored\",replace=TRUE),\n",
    "   copyVars = list(target),\n",
    "   encodename = TRUE,\n",
    "   assessonerow = TRUE\n",
    ")\n",
    "\n",
    "#Score the neural network model\n",
    "nn_score_obj = cas.neuralNet.annScore(\n",
    "   pardata[pardata$`_PartInd_` == 0,],\n",
    "   model = \"nn_model\",\n",
    "   casout = list(name=\"nn_scored\",replace=TRUE),\n",
    "   copyVars = list(target),\n",
    "   encodename = TRUE,\n",
    "   assessonerow = TRUE\n",
    ")\n",
    "\n",
    "#View selected fields from the output object\n",
    "dt_score_obj$OutputCasTables\n",
    "dt_score_obj$ScoreInfo\n",
    "\n",
    "rf_score_obj$OutputCasTables\n",
    "rf_score_obj$ScoreInfo\n",
    "\n",
    "rf_score_obj$OutputCasTables\n",
    "gbt_score_obj$ScoreInfo\n",
    "\n",
    "rf_score_obj$OutputCasTables\n",
    "nn_score_obj$ScoreInfo"
   ]
  },
  {
   "cell_type": "markdown",
   "metadata": {},
   "source": [
    "# Assess the Models"
   ]
  },
  {
   "cell_type": "code",
   "execution_count": 280,
   "metadata": {
    "collapsed": false
   },
   "outputs": [
    {
     "name": "stderr",
     "output_type": "stream",
     "text": [
      "NOTE: Added action set 'percentile'.\n",
      "NOTE: Information for action set 'percentile':\n",
      "NOTE:    percentile\n",
      "NOTE:       percentile - Calculate quantiles and percentiles\n",
      "NOTE:       boxPlot - Calculate quantiles, high and low whiskers, and outliers\n",
      "NOTE:       assess - Assess and compare models\n"
     ]
    }
   ],
   "source": [
    "# Load the percentile actionset for scoring\n",
    "loadActionSet(conn, 'percentile')"
   ]
  },
  {
   "cell_type": "code",
   "execution_count": 281,
   "metadata": {
    "collapsed": false
   },
   "outputs": [
    {
     "data": {
      "text/html": [
       "<strong>$OutputCasTables</strong> = <table>\n",
       "<thead><tr><th scope=col>casLib</th><th scope=col>Name</th><th scope=col>Rows</th><th scope=col>Columns</th></tr></thead>\n",
       "<tbody>\n",
       "\t<tr><td>CASUSER(student)</td><td>dt_assess       </td><td>20              </td><td>21              </td></tr>\n",
       "\t<tr><td>CASUSER(student)</td><td>dt_assess_ROC   </td><td>100             </td><td>20              </td></tr>\n",
       "</tbody>\n",
       "</table>\n"
      ],
      "text/latex": [
       "\\textbf{\\$OutputCasTables} = \\begin{tabular}{r|llll}\n",
       " casLib & Name & Rows & Columns\\\\\n",
       "\\hline\n",
       "\t CASUSER(student) & dt\\_assess      & 20               & 21              \\\\\n",
       "\t CASUSER(student)  & dt\\_assess\\_ROC & 100               & 20               \\\\\n",
       "\\end{tabular}\n"
      ],
      "text/markdown": [
       "**$OutputCasTables** = \n",
       "casLib | Name | Rows | Columns | \n",
       "|---|---|\n",
       "| CASUSER(student) | dt_assess        | 20               | 21               | \n",
       "| CASUSER(student) | dt_assess_ROC    | 100              | 20               | \n",
       "\n",
       "\n"
      ],
      "text/plain": [
       "$OutputCasTables\n",
       "            casLib          Name Rows Columns\n",
       "1 CASUSER(student)     dt_assess   20      21\n",
       "2 CASUSER(student) dt_assess_ROC  100      20\n"
      ]
     },
     "metadata": {},
     "output_type": "display_data"
    },
    {
     "data": {
      "text/html": [
       "<strong>$OutputCasTables</strong> = <table>\n",
       "<thead><tr><th scope=col>casLib</th><th scope=col>Name</th><th scope=col>Rows</th><th scope=col>Columns</th></tr></thead>\n",
       "<tbody>\n",
       "\t<tr><td>CASUSER(student)</td><td>rf_assess       </td><td>20              </td><td>21              </td></tr>\n",
       "\t<tr><td>CASUSER(student)</td><td>rf_assess_ROC   </td><td>100             </td><td>20              </td></tr>\n",
       "</tbody>\n",
       "</table>\n"
      ],
      "text/latex": [
       "\\textbf{\\$OutputCasTables} = \\begin{tabular}{r|llll}\n",
       " casLib & Name & Rows & Columns\\\\\n",
       "\\hline\n",
       "\t CASUSER(student) & rf\\_assess      & 20               & 21              \\\\\n",
       "\t CASUSER(student)  & rf\\_assess\\_ROC & 100               & 20               \\\\\n",
       "\\end{tabular}\n"
      ],
      "text/markdown": [
       "**$OutputCasTables** = \n",
       "casLib | Name | Rows | Columns | \n",
       "|---|---|\n",
       "| CASUSER(student) | rf_assess        | 20               | 21               | \n",
       "| CASUSER(student) | rf_assess_ROC    | 100              | 20               | \n",
       "\n",
       "\n"
      ],
      "text/plain": [
       "$OutputCasTables\n",
       "            casLib          Name Rows Columns\n",
       "1 CASUSER(student)     rf_assess   20      21\n",
       "2 CASUSER(student) rf_assess_ROC  100      20\n"
      ]
     },
     "metadata": {},
     "output_type": "display_data"
    },
    {
     "data": {
      "text/html": [
       "<strong>$OutputCasTables</strong> = <table>\n",
       "<thead><tr><th scope=col>casLib</th><th scope=col>Name</th><th scope=col>Rows</th><th scope=col>Columns</th></tr></thead>\n",
       "<tbody>\n",
       "\t<tr><td>CASUSER(student)</td><td>gbt_assess      </td><td>20              </td><td>21              </td></tr>\n",
       "\t<tr><td>CASUSER(student)</td><td>gbt_assess_ROC  </td><td>100             </td><td>20              </td></tr>\n",
       "</tbody>\n",
       "</table>\n"
      ],
      "text/latex": [
       "\\textbf{\\$OutputCasTables} = \\begin{tabular}{r|llll}\n",
       " casLib & Name & Rows & Columns\\\\\n",
       "\\hline\n",
       "\t CASUSER(student) & gbt\\_assess     & 20               & 21              \\\\\n",
       "\t CASUSER(student)   & gbt\\_assess\\_ROC & 100                & 20                \\\\\n",
       "\\end{tabular}\n"
      ],
      "text/markdown": [
       "**$OutputCasTables** = \n",
       "casLib | Name | Rows | Columns | \n",
       "|---|---|\n",
       "| CASUSER(student) | gbt_assess       | 20               | 21               | \n",
       "| CASUSER(student) | gbt_assess_ROC   | 100              | 20               | \n",
       "\n",
       "\n"
      ],
      "text/plain": [
       "$OutputCasTables\n",
       "            casLib           Name Rows Columns\n",
       "1 CASUSER(student)     gbt_assess   20      21\n",
       "2 CASUSER(student) gbt_assess_ROC  100      20\n"
      ]
     },
     "metadata": {},
     "output_type": "display_data"
    },
    {
     "data": {
      "text/html": [
       "<strong>$OutputCasTables</strong> = <table>\n",
       "<thead><tr><th scope=col>casLib</th><th scope=col>Name</th><th scope=col>Rows</th><th scope=col>Columns</th></tr></thead>\n",
       "<tbody>\n",
       "\t<tr><td>CASUSER(student)</td><td>nn_assess       </td><td>20              </td><td>21              </td></tr>\n",
       "\t<tr><td>CASUSER(student)</td><td>nn_assess_ROC   </td><td>100             </td><td>20              </td></tr>\n",
       "</tbody>\n",
       "</table>\n"
      ],
      "text/latex": [
       "\\textbf{\\$OutputCasTables} = \\begin{tabular}{r|llll}\n",
       " casLib & Name & Rows & Columns\\\\\n",
       "\\hline\n",
       "\t CASUSER(student) & nn\\_assess      & 20               & 21              \\\\\n",
       "\t CASUSER(student)  & nn\\_assess\\_ROC & 100               & 20               \\\\\n",
       "\\end{tabular}\n"
      ],
      "text/markdown": [
       "**$OutputCasTables** = \n",
       "casLib | Name | Rows | Columns | \n",
       "|---|---|\n",
       "| CASUSER(student) | nn_assess        | 20               | 21               | \n",
       "| CASUSER(student) | nn_assess_ROC    | 100              | 20               | \n",
       "\n",
       "\n"
      ],
      "text/plain": [
       "$OutputCasTables\n",
       "            casLib          Name Rows Columns\n",
       "1 CASUSER(student)     nn_assess   20      21\n",
       "2 CASUSER(student) nn_assess_ROC  100      20\n"
      ]
     },
     "metadata": {},
     "output_type": "display_data"
    }
   ],
   "source": [
    "# Create table objects from the scoring output and assess each model\n",
    "\n",
    "dt_scored = defCasTable(conn, tablename = \"dt_scored\")\n",
    "cas.percentile.assess(\n",
    "   dt_scored,\n",
    "   inputs = paste(\"P_\", target, \"1\", sep = \"\"),\n",
    "   casout = list(name=\"dt_assess\",replace=TRUE),\n",
    "   response = target,\n",
    "   event = \"1\"\n",
    ")\n",
    "\n",
    "rf_scored = defCasTable(conn, tablename = \"rf_scored\")\n",
    "cas.percentile.assess(\n",
    "   rf_scored,\n",
    "   inputs = paste(\"P_\", target, \"1\", sep = \"\"),\n",
    "   casout = list(name=\"rf_assess\",replace=TRUE),\n",
    "   response = target,\n",
    "   event = \"1\"\n",
    ")\n",
    "\n",
    "gbt_scored = defCasTable(conn, tablename = \"gbt_scored\")\n",
    "cas.percentile.assess(\n",
    "   gbt_scored,\n",
    "   inputs = paste(\"P_\", target, \"1\", sep = \"\"),\n",
    "   casout = list(name=\"gbt_assess\",replace=TRUE),\n",
    "   response = target,\n",
    "   event = \"1\"\n",
    ")\n",
    "\n",
    "nn_scored = defCasTable(conn, tablename = \"nn_scored\")\n",
    "cas.percentile.assess(\n",
    "   nn_scored,\n",
    "   inputs = paste(\"P_\", target, \"1\", sep = \"\"),\n",
    "   casout = list(name=\"nn_assess\",replace=TRUE),\n",
    "   response = target,\n",
    "   event = \"1\"\n",
    ")"
   ]
  },
  {
   "cell_type": "markdown",
   "metadata": {},
   "source": [
    "## Compare Confusion Matrix"
   ]
  },
  {
   "cell_type": "code",
   "execution_count": 282,
   "metadata": {
    "collapsed": false
   },
   "outputs": [
    {
     "data": {
      "text/html": [
       "<table>\n",
       "<thead><tr><th scope=col>Model</th><th scope=col>TP</th><th scope=col>FP</th><th scope=col>FN</th><th scope=col>TN</th></tr></thead>\n",
       "<tbody>\n",
       "\t<tr><td>Decision Tree    </td><td> 36              </td><td> 0               </td><td>310              </td><td>1442             </td></tr>\n",
       "\t<tr><td>Random Forest    </td><td> 38              </td><td> 0               </td><td>308              </td><td>1442             </td></tr>\n",
       "\t<tr><td>Gradient Boosting</td><td>183              </td><td>19               </td><td>163              </td><td>1423             </td></tr>\n",
       "\t<tr><td>Neural Network   </td><td>111              </td><td>41               </td><td>235              </td><td>1401             </td></tr>\n",
       "</tbody>\n",
       "</table>\n"
      ],
      "text/latex": [
       "\\begin{tabular}{r|lllll}\n",
       " Model & TP & FP & FN & TN\\\\\n",
       "\\hline\n",
       "\t Decision Tree     &  36               &  0                & 310               & 1442             \\\\\n",
       "\t Random Forest     &  38               &  0                & 308               & 1442             \\\\\n",
       "\t Gradient Boosting & 183               & 19                & 163               & 1423             \\\\\n",
       "\t Neural Network    & 111               & 41                & 235               & 1401             \\\\\n",
       "\\end{tabular}\n"
      ],
      "text/markdown": [
       "\n",
       "Model | TP | FP | FN | TN | \n",
       "|---|---|---|---|\n",
       "| Decision Tree     |  36               |  0                | 310               | 1442              | \n",
       "| Random Forest     |  38               |  0                | 308               | 1442              | \n",
       "| Gradient Boosting | 183               | 19                | 163               | 1423              | \n",
       "| Neural Network    | 111               | 41                | 235               | 1401              | \n",
       "\n",
       "\n"
      ],
      "text/plain": [
       "  Model             TP  FP FN  TN  \n",
       "1 Decision Tree      36  0 310 1442\n",
       "2 Random Forest      38  0 308 1442\n",
       "3 Gradient Boosting 183 19 163 1423\n",
       "4 Neural Network    111 41 235 1401"
      ]
     },
     "metadata": {},
     "output_type": "display_data"
    }
   ],
   "source": [
    "#Create table objects from the assess output, \n",
    "#bring data to the client, \n",
    "#and add new variable to data frame indicating model name\n",
    "\n",
    "dt_assess_ROC = defCasTable(conn, tablename = \"dt_assess_ROC\")\n",
    "dt_assess_ROC <- to.casDataFrame(dt_assess_ROC, obs = nrow(dt_assess_ROC))\n",
    "dt_assess_ROC$Model = 'Decision Tree'\n",
    "\n",
    "rf_assess_ROC = defCasTable(conn, tablename = \"rf_assess_ROC\")\n",
    "rf_assess_ROC <- to.casDataFrame(rf_assess_ROC, obs = nrow(rf_assess_ROC))\n",
    "rf_assess_ROC$Model = 'Random Forest'\n",
    "\n",
    "gbt_assess_ROC = defCasTable(conn, tablename = \"gbt_assess_ROC\")\n",
    "gbt_assess_ROC <- to.casDataFrame(gbt_assess_ROC, obs = nrow(gbt_assess_ROC))\n",
    "gbt_assess_ROC$Model = 'Gradient Boosting'\n",
    "\n",
    "nn_assess_ROC = defCasTable(conn, tablename = \"nn_assess_ROC\")\n",
    "nn_assess_ROC <- to.casDataFrame(nn_assess_ROC, obs = nrow(nn_assess_ROC))\n",
    "nn_assess_ROC$Model = 'Neural Network'\n",
    "\n",
    "#Combine data frames and view confusion matrix at a %50 cutoff\n",
    "df_assess = rbind(dt_assess_ROC, rf_assess_ROC, gbt_assess_ROC, nn_assess_ROC)\n",
    "compare <- subset(roc.df, CutOff == 0.5)\n",
    "rownames(compare) <- NULL\n",
    "compare[,c('Model','TP','FP','FN','TN')]"
   ]
  },
  {
   "cell_type": "markdown",
   "metadata": {},
   "source": [
    "## Compare Misclassification"
   ]
  },
  {
   "cell_type": "code",
   "execution_count": 283,
   "metadata": {
    "collapsed": false
   },
   "outputs": [
    {
     "data": {
      "text/html": [
       "<table>\n",
       "<thead><tr><th scope=col>Model</th><th scope=col>Misclassification</th></tr></thead>\n",
       "<tbody>\n",
       "\t<tr><td>Gradient Boosting</td><td>0.1017897        </td></tr>\n",
       "\t<tr><td>Neural Network   </td><td>0.1543624        </td></tr>\n",
       "\t<tr><td>Random Forest    </td><td>0.1722595        </td></tr>\n",
       "\t<tr><td>Decision Tree    </td><td>0.1733781        </td></tr>\n",
       "</tbody>\n",
       "</table>\n"
      ],
      "text/latex": [
       "\\begin{tabular}{r|ll}\n",
       " Model & Misclassification\\\\\n",
       "\\hline\n",
       "\t Gradient Boosting & 0.1017897        \\\\\n",
       "\t Neural Network    & 0.1543624        \\\\\n",
       "\t Random Forest     & 0.1722595        \\\\\n",
       "\t Decision Tree     & 0.1733781        \\\\\n",
       "\\end{tabular}\n"
      ],
      "text/markdown": [
       "\n",
       "Model | Misclassification | \n",
       "|---|---|---|---|\n",
       "| Gradient Boosting | 0.1017897         | \n",
       "| Neural Network    | 0.1543624         | \n",
       "| Random Forest     | 0.1722595         | \n",
       "| Decision Tree     | 0.1733781         | \n",
       "\n",
       "\n"
      ],
      "text/plain": [
       "  Model             Misclassification\n",
       "1 Gradient Boosting 0.1017897        \n",
       "2 Neural Network    0.1543624        \n",
       "3 Random Forest     0.1722595        \n",
       "4 Decision Tree     0.1733781        "
      ]
     },
     "metadata": {},
     "output_type": "display_data"
    }
   ],
   "source": [
    "# Build a data frame to compare the misclassification rates\n",
    "compare$Misclassification <- 1 - compare$ACC\n",
    "miss <- compare[order(compare$Misclassification), c('Model','Misclassification')]\n",
    "rownames(miss) <- NULL\n",
    "miss"
   ]
  },
  {
   "cell_type": "markdown",
   "metadata": {},
   "source": [
    "## Compare ROC Curve"
   ]
  },
  {
   "cell_type": "code",
   "execution_count": 284,
   "metadata": {
    "collapsed": false
   },
   "outputs": [
    {
     "data": {},
     "metadata": {},
     "output_type": "display_data"
    },
    {
     "data": {
      "image/png": "[encoded data removed]",
      "text/plain": [
       "plot without title"
      ]
     },
     "metadata": {},
     "output_type": "display_data"
    }
   ],
   "source": [
    "# Add a new column to be used as the ROC curve label\n",
    "df_assess$Models <- paste(df_assess$Model, round(df_assess$'_C_', 3), sep = ' - ')\n",
    "\n",
    "#Subset the data frame with only three variables \n",
    "df_roc = df_assess[c('_FPR_', '_Sensitivity_', 'Models')]\n",
    "colnames(df_roc) = c(\"FPR\", \"Sensitivity\", \"Models\")\n",
    "\n",
    "# Create the ROC curve\n",
    "ggplot(data = newdf, \n",
    "       aes(x = FPR, y = Sensitivity, colour = Models)) + geom_line() +\n",
    "       labs(x = 'False Positive Rate', y = 'True Positive Rate')"
   ]
  },
  {
   "cell_type": "markdown",
   "metadata": {},
   "source": [
    "# Alternative code using Functions and Looping"
   ]
  },
  {
   "cell_type": "code",
   "execution_count": 285,
   "metadata": {
    "collapsed": false
   },
   "outputs": [],
   "source": [
    "# # Score the models\n",
    "# models <- c('dt','rf','gbt','nn')\n",
    "# scores <- c(cas.decisionTree.dtreeScore, cas.decisionTree.forestScore, cas.decisionTree.gbtreeScore, cas.neuralNet.annScore)\n",
    "# names(scores) <- models\n",
    "\n",
    "# # Function to help automate prediction process on new data\n",
    "# score.params <- function(model){return(list(\n",
    "#     object       = defCasTable(conn, indata),\n",
    "#     modelTable   = list(name = paste0(model, '_model')),\n",
    "#     copyVars     = list(target, '_PartInd_'),\n",
    "#     assessonerow = TRUE,\n",
    "#     casOut       = list(name = paste0(model, '_scored'), replace = T)\n",
    "# ))}\n",
    "# lapply(models, function(x) {do.call(scores[[x]], score.params(x))})\n",
    "\n",
    "# # Useful function for model assessment\n",
    "# assess.model <- function(model){\n",
    "#     cas.percentile.assess(conn,\n",
    "#         table    = list(name = paste0(model,'_scored'), where = '_PartInd_ = 0'),\n",
    "#         inputs   = paste0('_', model, '_P_           1'),\n",
    "#         response = target,\n",
    "#         event    = '1')\n",
    "# }\n",
    "\n",
    "# model.names <- c('Decision Tree', 'Random Forest', 'Gradient Boosting', 'Neural Network')\n",
    "# roc.df <- data.frame()\n",
    "# for (i in 1:length(models)){\n",
    "#     tmp <- (assess.model(models[i]))$ROCInfo\n",
    "#     tmp$Model <- model.names[i] \n",
    "#     roc.df <- rbind(roc.df, tmp)\n",
    "# }\n",
    "\n",
    "# # Manipulate the dataframe\n",
    "# compare <- subset(roc.df, CutOff == 0.5)\n",
    "# rownames(compare) <- NULL\n",
    "# compare[,c('Model','TP','FP','FN','TN')]\n",
    "\n",
    "# # Add a new column to be used as the ROC curve label\n",
    "# roc.df$Models <- paste(roc.df$Model, round(roc.df$C, 3), sep = ' - ')\n",
    "\n",
    "# # Create the ROC curve\n",
    "# ggplot(data = roc.df[c('FPR', 'Sensitivity', 'Models')], \n",
    "#        aes(x = as.numeric(FPR), y = as.numeric(Sensitivity), colour = Models)) + geom_line() +\n",
    "#        labs(x = 'False Positive Rate', y = 'True Positive Rate')"
   ]
  },
  {
   "cell_type": "markdown",
   "metadata": {},
   "source": [
    "## Fit an XGBoost Model in R Locally"
   ]
  },
  {
   "cell_type": "code",
   "execution_count": 286,
   "metadata": {
    "collapsed": false
   },
   "outputs": [
    {
     "name": "stdout",
     "output_type": "stream",
     "text": [
      "[1]\ttrain-error:0.179051 \n",
      "[2]\ttrain-error:0.137105 \n",
      "[3]\ttrain-error:0.134708 \n",
      "[4]\ttrain-error:0.136146 \n",
      "[5]\ttrain-error:0.124880 \n",
      "[6]\ttrain-error:0.113375 \n",
      "[7]\ttrain-error:0.116731 \n",
      "[8]\ttrain-error:0.109779 \n",
      "[9]\ttrain-error:0.107143 \n",
      "[10]\ttrain-error:0.109060 \n",
      "[11]\ttrain-error:0.102589 \n",
      "[12]\ttrain-error:0.104506 \n",
      "[13]\ttrain-error:0.099952 \n",
      "[14]\ttrain-error:0.100911 \n",
      "[15]\ttrain-error:0.103547 \n",
      "[16]\ttrain-error:0.100911 \n",
      "[17]\ttrain-error:0.102349 \n",
      "[18]\ttrain-error:0.100671 \n",
      "[19]\ttrain-error:0.098993 \n",
      "[20]\ttrain-error:0.098035 \n",
      "[21]\ttrain-error:0.096836 \n",
      "[22]\ttrain-error:0.094439 \n",
      "[23]\ttrain-error:0.091083 \n",
      "[24]\ttrain-error:0.091083 \n",
      "[25]\ttrain-error:0.091323 \n"
     ]
    }
   ],
   "source": [
    "# Bring data locally and make sure it's in the right format\n",
    "df <- to.casDataFrame(defCasTable(conn, indata), obs = nrow(castbl))\n",
    "df <- df[,c(target, inputs, '_PartInd_')]\n",
    "    \n",
    "# Create dummy variables through one-hot encoding\n",
    "df.dum <- df[,nominals[-1]]\n",
    "dummies <- dummyVars('~ .', data = df.dum)\n",
    "df.ohe <- as.data.frame(predict(dummies, newdata = df))\n",
    "df.all.combined <- cbind(df[,-c(which(colnames(df) %in% nominals[-1]))], df.ohe)\n",
    "\n",
    "# Split into training and validation\n",
    "train <- df.all.combined[df.all.combined['_PartInd_'] == 1,]\n",
    "valid <- df.all.combined[df.all.combined['_PartInd_'] == 0,]\n",
    "\n",
    "# Train the XGBoost model\n",
    "set.seed(101112)\n",
    "bst <- xgboost(\n",
    "    data = data.matrix(train[,-1]),\n",
    "    label = data.matrix(train[,1]),\n",
    "    missing = 'NAN',\n",
    "    nround = 25,\n",
    "    objective = \"binary:logistic\",\n",
    "    eta = 0.1,\n",
    "    max_depth = 5,  \n",
    "    subsample = 0.5,\n",
    "    colsample_bytree = 0.5\n",
    ")"
   ]
  },
  {
   "cell_type": "markdown",
   "metadata": {},
   "source": [
    "## Score and Assess XGBoost on Validation Data"
   ]
  },
  {
   "cell_type": "code",
   "execution_count": 287,
   "metadata": {
    "collapsed": false
   },
   "outputs": [
    {
     "data": {
      "text/html": [
       "<table>\n",
       "<thead><tr><th scope=col>Model</th><th scope=col>Misclassification</th></tr></thead>\n",
       "<tbody>\n",
       "\t<tr><td>R - XGBoost      </td><td>0.106263982102908</td></tr>\n",
       "</tbody>\n",
       "</table>\n"
      ],
      "text/latex": [
       "\\begin{tabular}{r|ll}\n",
       " Model & Misclassification\\\\\n",
       "\\hline\n",
       "\t R - XGBoost       & 0.106263982102908\\\\\n",
       "\\end{tabular}\n"
      ],
      "text/markdown": [
       "\n",
       "Model | Misclassification | \n",
       "|---|\n",
       "| R - XGBoost       | 0.106263982102908 | \n",
       "\n",
       "\n"
      ],
      "text/plain": [
       "  Model       Misclassification\n",
       "1 R - XGBoost 0.106263982102908"
      ]
     },
     "metadata": {},
     "output_type": "display_data"
    }
   ],
   "source": [
    "# Create a dataframe with the misclassification rate for XGBoost\n",
    "pred <- as.numeric(predict(bst, data.matrix(valid[,-1]), missing = 'NAN') > 0.5)\n",
    "Misclassification <- mean(as.numeric(pred > 0.5) != valid[,1])\n",
    "xgb <- data.frame(cbind(Model = 'R - XGBoost', Misclassification))\n",
    "xgb"
   ]
  },
  {
   "cell_type": "markdown",
   "metadata": {},
   "source": [
    "## Final Assessment with CAS and R Models"
   ]
  },
  {
   "cell_type": "code",
   "execution_count": 288,
   "metadata": {
    "collapsed": false
   },
   "outputs": [
    {
     "data": {
      "text/html": [
       "<table>\n",
       "<thead><tr><th scope=col>Model</th><th scope=col>Misclassification</th></tr></thead>\n",
       "<tbody>\n",
       "\t<tr><td>Gradient Boosting</td><td>0.1017897        </td></tr>\n",
       "\t<tr><td>R - XGBoost      </td><td>0.1062640        </td></tr>\n",
       "\t<tr><td>Neural Network   </td><td>0.1543624        </td></tr>\n",
       "\t<tr><td>Random Forest    </td><td>0.1722595        </td></tr>\n",
       "\t<tr><td>Decision Tree    </td><td>0.1733781        </td></tr>\n",
       "</tbody>\n",
       "</table>\n"
      ],
      "text/latex": [
       "\\begin{tabular}{r|ll}\n",
       " Model & Misclassification\\\\\n",
       "\\hline\n",
       "\t Gradient Boosting & 0.1017897        \\\\\n",
       "\t R - XGBoost       & 0.1062640        \\\\\n",
       "\t Neural Network    & 0.1543624        \\\\\n",
       "\t Random Forest     & 0.1722595        \\\\\n",
       "\t Decision Tree     & 0.1733781        \\\\\n",
       "\\end{tabular}\n"
      ],
      "text/markdown": [
       "\n",
       "Model | Misclassification | \n",
       "|---|---|---|---|---|\n",
       "| Gradient Boosting | 0.1017897         | \n",
       "| R - XGBoost       | 0.1062640         | \n",
       "| Neural Network    | 0.1543624         | \n",
       "| Random Forest     | 0.1722595         | \n",
       "| Decision Tree     | 0.1733781         | \n",
       "\n",
       "\n"
      ],
      "text/plain": [
       "  Model             Misclassification\n",
       "1 Gradient Boosting 0.1017897        \n",
       "2 R - XGBoost       0.1062640        \n",
       "3 Neural Network    0.1543624        \n",
       "4 Random Forest     0.1722595        \n",
       "5 Decision Tree     0.1733781        "
      ]
     },
     "metadata": {},
     "output_type": "display_data"
    }
   ],
   "source": [
    "# Combine the assessments and order by most accurate on validation data\n",
    "err <- data.frame(rbind(miss, xgb))\n",
    "err[,-1] <- round(as.numeric(as.character(err[,-1])),7)\n",
    "err <- err[order(err[,-1]),]\n",
    "rownames(err) <- NULL\n",
    "err"
   ]
  },
  {
   "cell_type": "markdown",
   "metadata": {},
   "source": [
    "## Save the CAS Gradient Boosting Model"
   ]
  },
  {
   "cell_type": "code",
   "execution_count": 289,
   "metadata": {
    "collapsed": false
   },
   "outputs": [
    {
     "name": "stderr",
     "output_type": "stream",
     "text": [
      "NOTE: Cloud Analytic Services saved the file Best_Model_gbt.sashdat in caslib CASUSER(student).\n"
     ]
    },
    {
     "data": {
      "text/html": [
       "<dl>\n",
       "\t<dt>$caslib</dt>\n",
       "\t\t<dd>'CASUSER(student)'</dd>\n",
       "\t<dt>$name</dt>\n",
       "\t\t<dd>'Best_Model_gbt.sashdat'</dd>\n",
       "</dl>\n"
      ],
      "text/latex": [
       "\\begin{description}\n",
       "\\item[\\$caslib] 'CASUSER(student)'\n",
       "\\item[\\$name] 'Best\\_Model\\_gbt.sashdat'\n",
       "\\end{description}\n"
      ],
      "text/markdown": [
       "$caslib\n",
       ":   'CASUSER(student)'\n",
       "$name\n",
       ":   'Best_Model_gbt.sashdat'\n",
       "\n",
       "\n"
      ],
      "text/plain": [
       "$caslib\n",
       "[1] \"CASUSER(student)\"\n",
       "\n",
       "$name\n",
       "[1] \"Best_Model_gbt.sashdat\"\n"
      ]
     },
     "metadata": {},
     "output_type": "display_data"
    }
   ],
   "source": [
    "# Save the champion model for later use\n",
    "cas.table.save(conn, table = list(name = 'gbt_model'), name = 'Best_Model_gbt', replace = T)"
   ]
  },
  {
   "cell_type": "markdown",
   "metadata": {},
   "source": [
    "## End the Session"
   ]
  },
  {
   "cell_type": "code",
   "execution_count": 290,
   "metadata": {
    "collapsed": false
   },
   "outputs": [
    {
     "data": {
      "text/html": [
       "<ol>\n",
       "</ol>\n"
      ],
      "text/latex": [
       "\\begin{enumerate}\n",
       "\\end{enumerate}\n"
      ],
      "text/markdown": [
       "\n",
       "\n"
      ],
      "text/plain": [
       "list()"
      ]
     },
     "metadata": {},
     "output_type": "display_data"
    }
   ],
   "source": [
    "cas.session.endSession(conn)"
   ]
  }
 ],
 "metadata": {
  "anaconda-cloud": {},
  "kernelspec": {
   "display_name": "R",
   "language": "R",
   "name": "ir"
  },
  "language_info": {
   "codemirror_mode": "r",
   "file_extension": ".r",
   "mimetype": "text/x-r-source",
   "name": "R",
   "pygments_lexer": "r",
   "version": "3.3.2"
  }
 },
 "nbformat": 4,
 "nbformat_minor": 1
}
